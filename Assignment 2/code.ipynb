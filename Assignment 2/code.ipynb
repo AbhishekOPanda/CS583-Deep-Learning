{
 "cells": [
  {
   "cell_type": "markdown",
   "metadata": {
    "id": "JIX_MUaGDGml"
   },
   "source": [
    "# Assignment 2: Build a CNN for image recognition.\n",
    "\n",
    "## Due Date:  March 29, 11:59PM\n",
    "\n",
    "### Name: Abhishek Panda\n"
   ]
  },
  {
   "cell_type": "markdown",
   "metadata": {
    "id": "CjyuPX27DGmu"
   },
   "source": [
    "## Introduction:\n",
    "\n",
    "1. In this assignment, you will build Convolutional Neural Network to classify CIFAR-10 Images.\n",
    "2. You can directly load dataset from many deep learning packages.\n",
    "3. You can use any deep learning packages such as pytorch, keras or tensorflow for this assignment."
   ]
  },
  {
   "cell_type": "markdown",
   "metadata": {
    "id": "PebN_L1HDGmv"
   },
   "source": [
    "## Requirements:\n",
    "\n",
    "1. You need to load cifar 10 data and split the entire training dataset into training and validation.\n",
    "2. You will implement a CNN model to classify cifar 10 images with provided structure.\n",
    "3. You need to plot the training and validation accuracy or loss obtained from above step.\n",
    "4. Then you can use tuned parameters to train using the entire training dataset.\n",
    "5. You should report the testing accuracy using the model with complete data.\n",
    "6. You may try to change the structure (e.g, add BN layer or dropout layer,...) and analyze your findings.\n",
    "\n",
    "## Google Colab\n",
    "\n",
    "- If you do not have GPU, the training of a CNN can be slow. Google Colab is a good option."
   ]
  },
  {
   "cell_type": "markdown",
   "metadata": {
    "id": "QdRd3lZmDGmx"
   },
   "source": [
    "## Batch Normalization (BN)"
   ]
  },
  {
   "cell_type": "markdown",
   "metadata": {
    "id": "TmmQqqRuDGmx"
   },
   "source": [
    "### Background:"
   ]
  },
  {
   "cell_type": "markdown",
   "metadata": {
    "id": "G_bSwc0cDGmy"
   },
   "source": [
    "- Batch Normalization is a technique to speed up training and help make the model more stable.\n",
    "- In simple words, batch normalization is just another network layer that gets inserted between a hidden layer and the next hidden layer. Its job is to take the outputs from the first hidden layer and normalize them before passing them on as the input of the next hidden layer.\n",
    "\n",
    "- For more detailed information, you may refer to the original paper: https://arxiv.org/pdf/1502.03167.pdf."
   ]
  },
  {
   "cell_type": "markdown",
   "metadata": {
    "id": "dgbt_CUQDGmz"
   },
   "source": [
    "### BN Algorithm:"
   ]
  },
  {
   "cell_type": "markdown",
   "metadata": {
    "id": "BkNmSqlaDGm1"
   },
   "source": [
    "- Input: Values of $x$ over a mini-batch: $\\mathbf{B}$ = $\\{x_1,..., x_m\\};$\n",
    "- Output: $\\{y_i = BN_{\\gamma,\\beta}(x_i)\\}$, $\\gamma, \\beta$ are learnable parameters\n",
    "\n",
    "Normalization of the Input:\n",
    "$$\\mu_{\\mathbf{B}} = \\frac{1}{m}\\sum_{i=1}^m x_i$$\n",
    "$$\\sigma_{\\mathbf{B}}^2 = \\frac{1}{m}\\sum_{i=1}^m (x_i - \\mu_{\\mathbf{B}})^2$$\n",
    "$$\\hat{x_i} = \\frac{x_i - \\mu_{\\mathbf{B}}}{\\sqrt{\\sigma_{\\mathbf{B}}}^2 + \\epsilon}$$\n",
    "Re-scaling and Offsetting:\n",
    "$$y_i = \\gamma \\hat{x_i} + \\beta = BN_{\\gamma,\\beta}(x_i)$$\n"
   ]
  },
  {
   "cell_type": "markdown",
   "metadata": {
    "id": "m16cJAn7DGm2"
   },
   "source": [
    "### Advantages of BN:\n",
    "1. Improves gradient flow through the network.\n",
    "2. Allows use of saturating nonlinearities and higher learning rates.\n",
    "3. Makes weights easier to initialize.\n",
    "4. Act as a form of regularization and may reduce the need for dropout."
   ]
  },
  {
   "cell_type": "markdown",
   "metadata": {
    "id": "BBGMBaaEDGm4"
   },
   "source": [
    "### Implementation:"
   ]
  },
  {
   "cell_type": "markdown",
   "metadata": {
    "id": "FuFupXHjDGm5"
   },
   "source": [
    "- The batch normalization layer has already been implemented in many packages. You may simply call the function to build the layer. For example: torch.nn.BatchNorm2d() using pytroch package, keras.layers.BatchNormalization() using keras package.\n",
    "- The location of BN layer: Please make sure ```BatchNormalization``` is between a ```Conv```/```Dense``` layer and an ```activation``` layer."
   ]
  },
  {
   "cell_type": "markdown",
   "metadata": {
    "id": "UN1OxsezDGm6"
   },
   "source": [
    "## 1. Data preparation"
   ]
  },
  {
   "cell_type": "code",
   "execution_count": 2,
   "metadata": {
    "id": "Xk8EUeLitm4-"
   },
   "outputs": [],
   "source": [
    "import keras\n",
    "import numpy as np\n",
    "import tensorflow as tf\n",
    "from keras import models\n",
    "from keras import layers\n",
    "from keras import optimizers\n",
    "import matplotlib.pyplot as plt\n",
    "%matplotlib inline "
   ]
  },
  {
   "cell_type": "markdown",
   "metadata": {
    "id": "Sd3Z19UZDGm6"
   },
   "source": [
    "### 1.1. Load data\n"
   ]
  },
  {
   "cell_type": "code",
   "execution_count": 3,
   "metadata": {
    "colab": {
     "base_uri": "https://localhost:8080/"
    },
    "id": "ipuSsvteDGm7",
    "outputId": "90dce2b3-6567-4d05-90fc-f805a4b3bca0"
   },
   "outputs": [
    {
     "name": "stdout",
     "output_type": "stream",
     "text": [
      "shape of x_train: (50000, 32, 32, 3)\n",
      "shape of y_train: (50000, 1)\n",
      "shape of x_test: (10000, 32, 32, 3)\n",
      "shape of y_test: (10000, 1)\n",
      "number of classes: 10\n"
     ]
    }
   ],
   "source": [
    "(x_train, y_train), (x_test, y_test) = tf.keras.datasets.cifar10.load_data()\n",
    "\n",
    "print('shape of x_train: ' + str(x_train.shape))\n",
    "print('shape of y_train: ' + str(y_train.shape))\n",
    "print('shape of x_test: ' + str(x_test.shape))\n",
    "print('shape of y_test: ' + str(y_test.shape))\n",
    "print('number of classes: ' + str(np.max(y_train) - np.min(y_train) + 1))"
   ]
  },
  {
   "cell_type": "markdown",
   "metadata": {
    "id": "q2l0_Bi1DGm_"
   },
   "source": [
    "### 1.2. One-hot encode the labels (5 points)\n",
    "\n",
    "In the input, a label is a scalar in $\\{0, 1, \\cdots , 9\\}$. One-hot encode transform such a scalar to a $10$-dim vector. E.g., a scalar ```y_train[j]=3``` is transformed to the vector ```y_train_vec[j]=[0, 0, 0, 1, 0, 0, 0, 0, 0, 0]```.\n",
    "\n",
    "1. Implement a function ```to_one_hot``` that transforms an $n\\times 1$ array to a $n\\times 10$ matrix.\n",
    "\n",
    "2. Apply the function to ```y_train``` and ```y_test```."
   ]
  },
  {
   "cell_type": "code",
   "execution_count": 4,
   "metadata": {
    "colab": {
     "base_uri": "https://localhost:8080/"
    },
    "id": "iHS17__WDGm_",
    "outputId": "d3e125f9-7797-45b9-c8b5-48ce5e5aed53"
   },
   "outputs": [
    {
     "name": "stdout",
     "output_type": "stream",
     "text": [
      "Shape of y_train_vec: (50000, 10)\n",
      "Shape of y_test_vec: (10000, 10)\n",
      "[6]\n",
      "[0. 0. 0. 0. 0. 0. 1. 0. 0. 0.]\n"
     ]
    }
   ],
   "source": [
    "def to_one_hot(y, num_class=10):\n",
    "    results = np.zeros((len(y), num_class))\n",
    "    for i,y in enumerate(y):\n",
    "      results[i, y] = 1\n",
    "    return results\n",
    "\n",
    "y_train_vec = to_one_hot(y_train)\n",
    "y_test_vec = to_one_hot(y_test)\n",
    "\n",
    "print('Shape of y_train_vec: ' + str(y_train_vec.shape))\n",
    "print('Shape of y_test_vec: ' + str(y_test_vec.shape))\n",
    "\n",
    "print(y_train[0])\n",
    "print(y_train_vec[0])"
   ]
  },
  {
   "cell_type": "markdown",
   "metadata": {
    "id": "pfKToO2lDGnA"
   },
   "source": [
    "#### Remark: the outputs should be\n",
    "* Shape of y_train_vec: (50000, 10)\n",
    "* Shape of y_test_vec: (10000, 10)\n",
    "* [6]\n",
    "* [0. 0. 0. 0. 0. 0. 1. 0. 0. 0.]"
   ]
  },
  {
   "cell_type": "markdown",
   "metadata": {
    "id": "mQdLJD4gDGnB"
   },
   "source": [
    "### 1.3. Randomly partition the training set to training and validation sets (5 points)\n",
    "\n",
    "Randomly partition the 50K training samples to 2 sets: \n",
    "* a training set containing 40K samples: x_tr, y_tr\n",
    "* a validation set containing 10K samples: x_val, y_val\n"
   ]
  },
  {
   "cell_type": "code",
   "execution_count": 5,
   "metadata": {
    "colab": {
     "base_uri": "https://localhost:8080/"
    },
    "id": "XjVTnP82DGnC",
    "outputId": "3a6a9826-9255-422f-d341-5a3fc37661b6"
   },
   "outputs": [
    {
     "name": "stdout",
     "output_type": "stream",
     "text": [
      "Shape of x_tr: (40000, 32, 32, 3)\n",
      "Shape of y_tr: (40000, 10)\n",
      "Shape of x_val: (10000, 32, 32, 3)\n",
      "Shape of y_val: (10000, 10)\n"
     ]
    }
   ],
   "source": [
    "rand_indices = np.random.permutation(50000)\n",
    "train_indices = rand_indices[0:40000]\n",
    "valid_indices = rand_indices[40000:50000]\n",
    "\n",
    "x_val = x_train[valid_indices, :]\n",
    "y_val = y_train_vec[valid_indices, :]\n",
    "\n",
    "x_tr = x_train[train_indices, :]\n",
    "y_tr = y_train_vec[train_indices, :]\n",
    "\n",
    "print('Shape of x_tr: ' + str(x_tr.shape))\n",
    "print('Shape of y_tr: ' + str(y_tr.shape))\n",
    "print('Shape of x_val: ' + str(x_val.shape))\n",
    "print('Shape of y_val: ' + str(y_val.shape))"
   ]
  },
  {
   "cell_type": "markdown",
   "metadata": {
    "id": "kAUZx0qpDGnD"
   },
   "source": [
    "## 2. Build a CNN and tune its hyper-parameters (50 points)\n",
    "\n",
    "- Build a convolutional neural network model using the below structure:\n",
    "\n",
    "- It should have a structure of: Conv - ReLU - Max Pool - ConV - ReLU - Max Pool - Dense - ReLU - Dense - Softmax\n",
    "\n",
    "- In the graph 3@32x32 means the dimension of input image, 32@30x30 means it has 32 filters and the dimension now becomes 30x30 after the convolution.\n",
    "- All convolutional layers (Conv) should have stride = 1 and no padding.\n",
    "- Max Pooling has a pool size of 2 by 2.\n",
    "\n",
    "\n"
   ]
  },
  {
   "cell_type": "markdown",
   "metadata": {
    "id": "nV-2NixcDGnD"
   },
   "source": [
    "<img src=\"network.PNG\"/>"
   ]
  },
  {
   "cell_type": "markdown",
   "metadata": {
    "id": "PdyzGBypDGnE"
   },
   "source": [
    "- You may use the validation data to tune the hyper-parameters (e.g., learning rate, and optimization algorithm)\n",
    "- Do NOT use test data for hyper-parameter tuning!!!\n",
    "- Try to achieve a validation accuracy as high as possible."
   ]
  },
  {
   "cell_type": "code",
   "execution_count": 5,
   "metadata": {
    "id": "qwnIA7luDGnE"
   },
   "outputs": [],
   "source": [
    "# Build the model\n",
    "model = models.Sequential()\n",
    "model.add(layers.Conv2D(32, (3, 3), activation = 'relu', padding = 'valid', input_shape=(32, 32, 3)))\n",
    "model.add(layers.MaxPool2D((2, 2)))\n",
    "model.add(layers.Conv2D(64, (4, 4), activation = 'relu', padding = 'valid'))\n",
    "model.add(layers.MaxPool2D((2, 2)))          \n",
    "model.add(layers.Flatten())\n",
    "model.add(layers.Dense(256, activation ='relu'))\n",
    "model.add(layers.Dense(10, activation = 'softmax'))"
   ]
  },
  {
   "cell_type": "code",
   "execution_count": 6,
   "metadata": {
    "colab": {
     "base_uri": "https://localhost:8080/"
    },
    "id": "WNtPVeJLP5B7",
    "outputId": "d1cd9f8c-1c14-4d85-d186-945aee9b2272"
   },
   "outputs": [
    {
     "name": "stdout",
     "output_type": "stream",
     "text": [
      "Model: \"sequential\"\n",
      "_________________________________________________________________\n",
      "Layer (type)                 Output Shape              Param #   \n",
      "=================================================================\n",
      "conv2d (Conv2D)              (None, 30, 30, 32)        896       \n",
      "_________________________________________________________________\n",
      "max_pooling2d (MaxPooling2D) (None, 15, 15, 32)        0         \n",
      "_________________________________________________________________\n",
      "conv2d_1 (Conv2D)            (None, 12, 12, 64)        32832     \n",
      "_________________________________________________________________\n",
      "max_pooling2d_1 (MaxPooling2 (None, 6, 6, 64)          0         \n",
      "_________________________________________________________________\n",
      "flatten (Flatten)            (None, 2304)              0         \n",
      "_________________________________________________________________\n",
      "dense (Dense)                (None, 256)               590080    \n",
      "_________________________________________________________________\n",
      "dense_1 (Dense)              (None, 10)                2570      \n",
      "=================================================================\n",
      "Total params: 626,378\n",
      "Trainable params: 626,378\n",
      "Non-trainable params: 0\n",
      "_________________________________________________________________\n"
     ]
    }
   ],
   "source": [
    "model.summary()"
   ]
  },
  {
   "cell_type": "code",
   "execution_count": 7,
   "metadata": {
    "id": "oeukWJZ8DGnF"
   },
   "outputs": [],
   "source": [
    "# Define model optimizer and loss function\n",
    "model.compile(optimizer = tf.keras.optimizers.Ftrl(),\n",
    "              loss = 'categorical_crossentropy',\n",
    "              metrics = ['accuracy'])"
   ]
  },
  {
   "cell_type": "code",
   "execution_count": 8,
   "metadata": {
    "colab": {
     "base_uri": "https://localhost:8080/"
    },
    "id": "Nc0LShhjDGnG",
    "outputId": "f2eff451-687c-4e95-d681-b48645e39fb3"
   },
   "outputs": [
    {
     "name": "stdout",
     "output_type": "stream",
     "text": [
      "Epoch 1/50\n",
      "157/157 [==============================] - 8s 7ms/step - loss: 2.8912 - accuracy: 0.2566 - val_loss: 1.8517 - val_accuracy: 0.3248\n",
      "Epoch 2/50\n",
      "157/157 [==============================] - 1s 5ms/step - loss: 1.7021 - accuracy: 0.3989 - val_loss: 1.6780 - val_accuracy: 0.3977\n",
      "Epoch 3/50\n",
      "157/157 [==============================] - 1s 5ms/step - loss: 1.5816 - accuracy: 0.4447 - val_loss: 1.5769 - val_accuracy: 0.4330\n",
      "Epoch 4/50\n",
      "157/157 [==============================] - 1s 5ms/step - loss: 1.5003 - accuracy: 0.4741 - val_loss: 1.6589 - val_accuracy: 0.4109\n",
      "Epoch 5/50\n",
      "157/157 [==============================] - 1s 5ms/step - loss: 1.4351 - accuracy: 0.4991 - val_loss: 1.4826 - val_accuracy: 0.4677\n",
      "Epoch 6/50\n",
      "157/157 [==============================] - 1s 5ms/step - loss: 1.3833 - accuracy: 0.5161 - val_loss: 1.4404 - val_accuracy: 0.4851\n",
      "Epoch 7/50\n",
      "157/157 [==============================] - 1s 5ms/step - loss: 1.3415 - accuracy: 0.5320 - val_loss: 1.3715 - val_accuracy: 0.5094\n",
      "Epoch 8/50\n",
      "157/157 [==============================] - 1s 5ms/step - loss: 1.3061 - accuracy: 0.5458 - val_loss: 1.3521 - val_accuracy: 0.5138\n",
      "Epoch 9/50\n",
      "157/157 [==============================] - 1s 5ms/step - loss: 1.2754 - accuracy: 0.5548 - val_loss: 1.3361 - val_accuracy: 0.5294\n",
      "Epoch 10/50\n",
      "157/157 [==============================] - 1s 5ms/step - loss: 1.2498 - accuracy: 0.5667 - val_loss: 1.2945 - val_accuracy: 0.5438\n",
      "Epoch 11/50\n",
      "157/157 [==============================] - 1s 5ms/step - loss: 1.2240 - accuracy: 0.5765 - val_loss: 1.2737 - val_accuracy: 0.5502\n",
      "Epoch 12/50\n",
      "157/157 [==============================] - 1s 5ms/step - loss: 1.2025 - accuracy: 0.5844 - val_loss: 1.3383 - val_accuracy: 0.5219\n",
      "Epoch 13/50\n",
      "157/157 [==============================] - 1s 5ms/step - loss: 1.1832 - accuracy: 0.5899 - val_loss: 1.3121 - val_accuracy: 0.5415\n",
      "Epoch 14/50\n",
      "157/157 [==============================] - 1s 5ms/step - loss: 1.1643 - accuracy: 0.5985 - val_loss: 1.2531 - val_accuracy: 0.5546\n",
      "Epoch 15/50\n",
      "157/157 [==============================] - 1s 5ms/step - loss: 1.1466 - accuracy: 0.6033 - val_loss: 1.2604 - val_accuracy: 0.5559\n",
      "Epoch 16/50\n",
      "157/157 [==============================] - 1s 5ms/step - loss: 1.1296 - accuracy: 0.6109 - val_loss: 1.2191 - val_accuracy: 0.5681\n",
      "Epoch 17/50\n",
      "157/157 [==============================] - 1s 5ms/step - loss: 1.1145 - accuracy: 0.6176 - val_loss: 1.2156 - val_accuracy: 0.5744\n",
      "Epoch 18/50\n",
      "157/157 [==============================] - 1s 5ms/step - loss: 1.0992 - accuracy: 0.6230 - val_loss: 1.2150 - val_accuracy: 0.5727\n",
      "Epoch 19/50\n",
      "157/157 [==============================] - 1s 5ms/step - loss: 1.0896 - accuracy: 0.6255 - val_loss: 1.1650 - val_accuracy: 0.5948\n",
      "Epoch 20/50\n",
      "157/157 [==============================] - 1s 5ms/step - loss: 1.0743 - accuracy: 0.6316 - val_loss: 1.1674 - val_accuracy: 0.5893\n",
      "Epoch 21/50\n",
      "157/157 [==============================] - 1s 5ms/step - loss: 1.0633 - accuracy: 0.6362 - val_loss: 1.2636 - val_accuracy: 0.5567\n",
      "Epoch 22/50\n",
      "157/157 [==============================] - 1s 5ms/step - loss: 1.0541 - accuracy: 0.6378 - val_loss: 1.1885 - val_accuracy: 0.5870\n",
      "Epoch 23/50\n",
      "157/157 [==============================] - 1s 5ms/step - loss: 1.0446 - accuracy: 0.6424 - val_loss: 1.1326 - val_accuracy: 0.6040\n",
      "Epoch 24/50\n",
      "157/157 [==============================] - 1s 5ms/step - loss: 1.0319 - accuracy: 0.6477 - val_loss: 1.1694 - val_accuracy: 0.5881\n",
      "Epoch 25/50\n",
      "157/157 [==============================] - 1s 5ms/step - loss: 1.0233 - accuracy: 0.6492 - val_loss: 1.1664 - val_accuracy: 0.5888\n",
      "Epoch 26/50\n",
      "157/157 [==============================] - 1s 5ms/step - loss: 1.0152 - accuracy: 0.6549 - val_loss: 1.2279 - val_accuracy: 0.5598\n",
      "Epoch 27/50\n",
      "157/157 [==============================] - 1s 5ms/step - loss: 1.0075 - accuracy: 0.6544 - val_loss: 1.1873 - val_accuracy: 0.5756\n",
      "Epoch 28/50\n",
      "157/157 [==============================] - 1s 5ms/step - loss: 0.9969 - accuracy: 0.6607 - val_loss: 1.1564 - val_accuracy: 0.5906\n",
      "Epoch 29/50\n",
      "157/157 [==============================] - 1s 5ms/step - loss: 0.9899 - accuracy: 0.6625 - val_loss: 1.1215 - val_accuracy: 0.6071\n",
      "Epoch 30/50\n",
      "157/157 [==============================] - 1s 5ms/step - loss: 0.9813 - accuracy: 0.6654 - val_loss: 1.1066 - val_accuracy: 0.6133\n",
      "Epoch 31/50\n",
      "157/157 [==============================] - 1s 5ms/step - loss: 0.9746 - accuracy: 0.6670 - val_loss: 1.1567 - val_accuracy: 0.5940\n",
      "Epoch 32/50\n",
      "157/157 [==============================] - 1s 5ms/step - loss: 0.9657 - accuracy: 0.6708 - val_loss: 1.1124 - val_accuracy: 0.6126\n",
      "Epoch 33/50\n",
      "157/157 [==============================] - 1s 5ms/step - loss: 0.9588 - accuracy: 0.6743 - val_loss: 1.0940 - val_accuracy: 0.6184\n",
      "Epoch 34/50\n",
      "157/157 [==============================] - 1s 5ms/step - loss: 0.9510 - accuracy: 0.6738 - val_loss: 1.1169 - val_accuracy: 0.6086\n",
      "Epoch 35/50\n",
      "157/157 [==============================] - 1s 5ms/step - loss: 0.9454 - accuracy: 0.6773 - val_loss: 1.1002 - val_accuracy: 0.6153\n",
      "Epoch 36/50\n",
      "157/157 [==============================] - 1s 5ms/step - loss: 0.9391 - accuracy: 0.6778 - val_loss: 1.1373 - val_accuracy: 0.6036\n",
      "Epoch 37/50\n",
      "157/157 [==============================] - 1s 5ms/step - loss: 0.9331 - accuracy: 0.6832 - val_loss: 1.0972 - val_accuracy: 0.6128\n",
      "Epoch 38/50\n",
      "157/157 [==============================] - 1s 5ms/step - loss: 0.9272 - accuracy: 0.6838 - val_loss: 1.0757 - val_accuracy: 0.6227\n",
      "Epoch 39/50\n",
      "157/157 [==============================] - 1s 5ms/step - loss: 0.9186 - accuracy: 0.6883 - val_loss: 1.1099 - val_accuracy: 0.6119\n",
      "Epoch 40/50\n",
      "157/157 [==============================] - 1s 5ms/step - loss: 0.9146 - accuracy: 0.6893 - val_loss: 1.1033 - val_accuracy: 0.6127\n",
      "Epoch 41/50\n",
      "157/157 [==============================] - 1s 5ms/step - loss: 0.9075 - accuracy: 0.6915 - val_loss: 1.0768 - val_accuracy: 0.6221\n",
      "Epoch 42/50\n",
      "157/157 [==============================] - 1s 5ms/step - loss: 0.9023 - accuracy: 0.6934 - val_loss: 1.0774 - val_accuracy: 0.6228\n",
      "Epoch 43/50\n",
      "157/157 [==============================] - 1s 5ms/step - loss: 0.8944 - accuracy: 0.6962 - val_loss: 1.0936 - val_accuracy: 0.6194\n",
      "Epoch 44/50\n",
      "157/157 [==============================] - 1s 5ms/step - loss: 0.8928 - accuracy: 0.6965 - val_loss: 1.1133 - val_accuracy: 0.6106\n",
      "Epoch 45/50\n",
      "157/157 [==============================] - 1s 5ms/step - loss: 0.8855 - accuracy: 0.6983 - val_loss: 1.0785 - val_accuracy: 0.6232\n",
      "Epoch 46/50\n",
      "157/157 [==============================] - 1s 5ms/step - loss: 0.8803 - accuracy: 0.7001 - val_loss: 1.0678 - val_accuracy: 0.6305\n",
      "Epoch 47/50\n",
      "157/157 [==============================] - 1s 5ms/step - loss: 0.8745 - accuracy: 0.7042 - val_loss: 1.0980 - val_accuracy: 0.6128\n",
      "Epoch 48/50\n",
      "157/157 [==============================] - 1s 5ms/step - loss: 0.8694 - accuracy: 0.7050 - val_loss: 1.0476 - val_accuracy: 0.6348\n",
      "Epoch 49/50\n",
      "157/157 [==============================] - 1s 5ms/step - loss: 0.8648 - accuracy: 0.7068 - val_loss: 1.0550 - val_accuracy: 0.6333\n",
      "Epoch 50/50\n",
      "157/157 [==============================] - 1s 5ms/step - loss: 0.8597 - accuracy: 0.7086 - val_loss: 1.0753 - val_accuracy: 0.6243\n"
     ]
    }
   ],
   "source": [
    "# Train the model and store model parameters/loss values\n",
    "history = model.fit(x_tr, y_tr,\n",
    "                    batch_size=256, epochs= 50,\n",
    "                    validation_data=(x_val, y_val))"
   ]
  },
  {
   "cell_type": "markdown",
   "metadata": {
    "id": "zzxYpZOaDGnG"
   },
   "source": [
    "## 3. Plot the training and validation loss curve versus epochs. (5 points)"
   ]
  },
  {
   "cell_type": "code",
   "execution_count": 9,
   "metadata": {
    "colab": {
     "base_uri": "https://localhost:8080/",
     "height": 279
    },
    "id": "jd7zb4BsDGnG",
    "outputId": "eeb4ce55-48dc-4830-93b3-721564a957a8"
   },
   "outputs": [
    {
     "data": {
      "image/png": "[encoded data removed]",
      "text/plain": [
       "<Figure size 432x288 with 1 Axes>"
      ]
     },
     "metadata": {
      "needs_background": "light"
     },
     "output_type": "display_data"
    }
   ],
   "source": [
    "# Plot the loss curve\n",
    "epochs = range(50)\n",
    "train_loss = history.history['loss']\n",
    "valid_loss = history.history['val_loss']\n",
    "plt.plot(epochs, train_loss, 'bo', label='Training Loss')\n",
    "plt.plot(epochs, valid_loss, 'r', label='Validation Loss')\n",
    "plt.xlabel('Epochs')\n",
    "plt.ylabel('Valdiation Loss')\n",
    "plt.yticks(range(0, 5))\n",
    "plt.legend()\n",
    "plt.show()"
   ]
  },
  {
   "cell_type": "markdown",
   "metadata": {
    "id": "bOBQac4iDGnH"
   },
   "source": [
    "## 4. Train (again) and evaluate the model (5 points)\n",
    "\n",
    "- To this end, you have found the \"best\" hyper-parameters. \n",
    "- Now, fix the hyper-parameters and train the network on the entire training set (all the 50K training samples)\n",
    "- Evaluate your model on the test set."
   ]
  },
  {
   "cell_type": "markdown",
   "metadata": {
    "id": "YT6te7RtDGnH"
   },
   "source": [
    "### Train the model on the entire training set\n",
    "\n",
    "Why? Previously, you used 40K samples for training; you wasted 10K samples for the sake of hyper-parameter tuning. Now you already know the hyper-parameters, so why not using all the 50K samples for training?"
   ]
  },
  {
   "cell_type": "code",
   "execution_count": 10,
   "metadata": {
    "id": "cnr3x55tDGnH"
   },
   "outputs": [],
   "source": [
    "#<Compile your model again (using the same hyper-parameters you tuned above)>\n",
    "model.compile(optimizer = tf.keras.optimizers.Ftrl(),\n",
    "              loss = 'categorical_crossentropy',\n",
    "              metrics = ['accuracy'])"
   ]
  },
  {
   "cell_type": "code",
   "execution_count": 11,
   "metadata": {
    "colab": {
     "base_uri": "https://localhost:8080/"
    },
    "id": "opCsglWRDGnI",
    "outputId": "1280c871-4e36-40a0-ec2d-7727669d056c"
   },
   "outputs": [
    {
     "name": "stdout",
     "output_type": "stream",
     "text": [
      "Epoch 1/50\n",
      "196/196 [==============================] - 2s 6ms/step - loss: 2.2945 - accuracy: 0.1167 - val_loss: 2.2988 - val_accuracy: 0.1439\n",
      "Epoch 2/50\n",
      "196/196 [==============================] - 1s 5ms/step - loss: 2.2799 - accuracy: 0.1306 - val_loss: 2.2205 - val_accuracy: 0.1687\n",
      "Epoch 3/50\n",
      "196/196 [==============================] - 1s 5ms/step - loss: 2.1071 - accuracy: 0.1981 - val_loss: 2.0775 - val_accuracy: 0.2283\n",
      "Epoch 4/50\n",
      "196/196 [==============================] - 1s 5ms/step - loss: 2.0261 - accuracy: 0.2454 - val_loss: 1.9939 - val_accuracy: 0.2654\n",
      "Epoch 5/50\n",
      "196/196 [==============================] - 1s 5ms/step - loss: 1.9802 - accuracy: 0.2691 - val_loss: 1.9964 - val_accuracy: 0.2764\n",
      "Epoch 6/50\n",
      "196/196 [==============================] - 1s 5ms/step - loss: 1.9268 - accuracy: 0.2950 - val_loss: 1.8800 - val_accuracy: 0.3175\n",
      "Epoch 7/50\n",
      "196/196 [==============================] - 1s 5ms/step - loss: 1.8371 - accuracy: 0.3329 - val_loss: 1.7793 - val_accuracy: 0.3602\n",
      "Epoch 8/50\n",
      "196/196 [==============================] - 1s 5ms/step - loss: 1.7544 - accuracy: 0.3647 - val_loss: 1.7087 - val_accuracy: 0.3865\n",
      "Epoch 9/50\n",
      "196/196 [==============================] - 1s 5ms/step - loss: 1.6952 - accuracy: 0.3892 - val_loss: 1.6607 - val_accuracy: 0.3976\n",
      "Epoch 10/50\n",
      "196/196 [==============================] - 1s 5ms/step - loss: 1.6489 - accuracy: 0.4036 - val_loss: 1.6215 - val_accuracy: 0.4143\n",
      "Epoch 11/50\n",
      "196/196 [==============================] - 1s 5ms/step - loss: 1.6120 - accuracy: 0.4153 - val_loss: 1.6014 - val_accuracy: 0.4207\n",
      "Epoch 12/50\n",
      "196/196 [==============================] - 1s 5ms/step - loss: 1.5793 - accuracy: 0.4286 - val_loss: 1.5678 - val_accuracy: 0.4348\n",
      "Epoch 13/50\n",
      "196/196 [==============================] - 1s 5ms/step - loss: 1.5489 - accuracy: 0.4385 - val_loss: 1.5462 - val_accuracy: 0.4414\n",
      "Epoch 14/50\n",
      "196/196 [==============================] - 1s 5ms/step - loss: 1.5201 - accuracy: 0.4491 - val_loss: 1.5310 - val_accuracy: 0.4510\n",
      "Epoch 15/50\n",
      "196/196 [==============================] - 1s 5ms/step - loss: 1.4927 - accuracy: 0.4594 - val_loss: 1.4834 - val_accuracy: 0.4646\n",
      "Epoch 16/50\n",
      "196/196 [==============================] - 1s 5ms/step - loss: 1.4700 - accuracy: 0.4682 - val_loss: 1.4831 - val_accuracy: 0.4698\n",
      "Epoch 17/50\n",
      "196/196 [==============================] - 1s 5ms/step - loss: 1.4490 - accuracy: 0.4766 - val_loss: 1.4511 - val_accuracy: 0.4777\n",
      "Epoch 18/50\n",
      "196/196 [==============================] - 1s 5ms/step - loss: 1.4315 - accuracy: 0.4837 - val_loss: 1.4298 - val_accuracy: 0.4850\n",
      "Epoch 19/50\n",
      "196/196 [==============================] - 1s 5ms/step - loss: 1.4128 - accuracy: 0.4918 - val_loss: 1.4499 - val_accuracy: 0.4824\n",
      "Epoch 20/50\n",
      "196/196 [==============================] - 1s 5ms/step - loss: 1.3968 - accuracy: 0.5001 - val_loss: 1.4026 - val_accuracy: 0.4953\n",
      "Epoch 21/50\n",
      "196/196 [==============================] - 1s 5ms/step - loss: 1.3777 - accuracy: 0.5068 - val_loss: 1.3891 - val_accuracy: 0.5055\n",
      "Epoch 22/50\n",
      "196/196 [==============================] - 1s 5ms/step - loss: 1.3624 - accuracy: 0.5125 - val_loss: 1.3830 - val_accuracy: 0.5065\n",
      "Epoch 23/50\n",
      "196/196 [==============================] - 1s 5ms/step - loss: 1.3496 - accuracy: 0.5203 - val_loss: 1.3516 - val_accuracy: 0.5130\n",
      "Epoch 24/50\n",
      "196/196 [==============================] - 1s 5ms/step - loss: 1.3344 - accuracy: 0.5255 - val_loss: 1.3433 - val_accuracy: 0.5208\n",
      "Epoch 25/50\n",
      "196/196 [==============================] - 1s 5ms/step - loss: 1.3222 - accuracy: 0.5311 - val_loss: 1.3306 - val_accuracy: 0.5275\n",
      "Epoch 26/50\n",
      "196/196 [==============================] - 1s 5ms/step - loss: 1.3101 - accuracy: 0.5360 - val_loss: 1.3256 - val_accuracy: 0.5300\n",
      "Epoch 27/50\n",
      "196/196 [==============================] - 1s 5ms/step - loss: 1.2982 - accuracy: 0.5405 - val_loss: 1.3126 - val_accuracy: 0.5330\n",
      "Epoch 28/50\n",
      "196/196 [==============================] - 1s 5ms/step - loss: 1.2881 - accuracy: 0.5444 - val_loss: 1.3057 - val_accuracy: 0.5356\n",
      "Epoch 29/50\n",
      "196/196 [==============================] - 1s 5ms/step - loss: 1.2780 - accuracy: 0.5482 - val_loss: 1.3294 - val_accuracy: 0.5246\n",
      "Epoch 30/50\n",
      "196/196 [==============================] - 1s 5ms/step - loss: 1.2687 - accuracy: 0.5530 - val_loss: 1.2871 - val_accuracy: 0.5426\n",
      "Epoch 31/50\n",
      "196/196 [==============================] - 1s 5ms/step - loss: 1.2610 - accuracy: 0.5559 - val_loss: 1.2664 - val_accuracy: 0.5512\n",
      "Epoch 32/50\n",
      "196/196 [==============================] - 1s 5ms/step - loss: 1.2511 - accuracy: 0.5582 - val_loss: 1.2801 - val_accuracy: 0.5477\n",
      "Epoch 33/50\n",
      "196/196 [==============================] - 1s 5ms/step - loss: 1.2430 - accuracy: 0.5628 - val_loss: 1.2547 - val_accuracy: 0.5546\n",
      "Epoch 34/50\n",
      "196/196 [==============================] - 1s 5ms/step - loss: 1.2342 - accuracy: 0.5645 - val_loss: 1.2532 - val_accuracy: 0.5545\n",
      "Epoch 35/50\n",
      "196/196 [==============================] - 1s 5ms/step - loss: 1.2272 - accuracy: 0.5693 - val_loss: 1.2516 - val_accuracy: 0.5570\n",
      "Epoch 36/50\n",
      "196/196 [==============================] - 1s 5ms/step - loss: 1.2179 - accuracy: 0.5712 - val_loss: 1.2298 - val_accuracy: 0.5660\n",
      "Epoch 37/50\n",
      "196/196 [==============================] - 1s 5ms/step - loss: 1.2102 - accuracy: 0.5750 - val_loss: 1.2367 - val_accuracy: 0.5650\n",
      "Epoch 38/50\n",
      "196/196 [==============================] - 1s 5ms/step - loss: 1.2040 - accuracy: 0.5767 - val_loss: 1.2312 - val_accuracy: 0.5667\n",
      "Epoch 39/50\n",
      "196/196 [==============================] - 1s 5ms/step - loss: 1.1974 - accuracy: 0.5791 - val_loss: 1.2228 - val_accuracy: 0.5655\n",
      "Epoch 40/50\n",
      "196/196 [==============================] - 1s 5ms/step - loss: 1.1893 - accuracy: 0.5837 - val_loss: 1.2191 - val_accuracy: 0.5721\n",
      "Epoch 41/50\n",
      "196/196 [==============================] - 1s 5ms/step - loss: 1.1830 - accuracy: 0.5865 - val_loss: 1.2044 - val_accuracy: 0.5741\n",
      "Epoch 42/50\n",
      "196/196 [==============================] - 1s 5ms/step - loss: 1.1761 - accuracy: 0.5887 - val_loss: 1.2357 - val_accuracy: 0.5637\n",
      "Epoch 43/50\n",
      "196/196 [==============================] - 1s 5ms/step - loss: 1.1691 - accuracy: 0.5907 - val_loss: 1.1889 - val_accuracy: 0.5763\n",
      "Epoch 44/50\n",
      "196/196 [==============================] - 1s 5ms/step - loss: 1.1635 - accuracy: 0.5926 - val_loss: 1.1866 - val_accuracy: 0.5786\n",
      "Epoch 45/50\n",
      "196/196 [==============================] - 1s 5ms/step - loss: 1.1562 - accuracy: 0.5954 - val_loss: 1.1823 - val_accuracy: 0.5808\n",
      "Epoch 46/50\n",
      "196/196 [==============================] - 1s 5ms/step - loss: 1.1515 - accuracy: 0.5970 - val_loss: 1.1787 - val_accuracy: 0.5849\n",
      "Epoch 47/50\n",
      "196/196 [==============================] - 1s 5ms/step - loss: 1.1446 - accuracy: 0.6004 - val_loss: 1.1761 - val_accuracy: 0.5875\n",
      "Epoch 48/50\n",
      "196/196 [==============================] - 1s 5ms/step - loss: 1.1380 - accuracy: 0.6026 - val_loss: 1.1727 - val_accuracy: 0.5854\n",
      "Epoch 49/50\n",
      "196/196 [==============================] - 1s 5ms/step - loss: 1.1325 - accuracy: 0.6039 - val_loss: 1.1719 - val_accuracy: 0.5876\n",
      "Epoch 50/50\n",
      "196/196 [==============================] - 1s 5ms/step - loss: 1.1261 - accuracy: 0.6058 - val_loss: 1.1601 - val_accuracy: 0.5913\n"
     ]
    }
   ],
   "source": [
    "#<Train your model on the entire training set (50K samples)>\n",
    "history = model.fit(x_train, y_train_vec,\n",
    "                    batch_size=256, epochs= 50,\n",
    "                    validation_data=(x_test, y_test_vec))"
   ]
  },
  {
   "cell_type": "code",
   "execution_count": 12,
   "metadata": {
    "colab": {
     "base_uri": "https://localhost:8080/",
     "height": 283
    },
    "id": "3JjaqqJtNq2v",
    "outputId": "a3cc4696-4ccc-42ac-d809-68dd37f5ce22"
   },
   "outputs": [
    {
     "data": {
      "image/png": "[encoded data removed]",
      "text/plain": [
       "<Figure size 432x288 with 1 Axes>"
      ]
     },
     "metadata": {
      "needs_background": "light"
     },
     "output_type": "display_data"
    }
   ],
   "source": [
    "# Plot the loss curve\n",
    "epochs = range(50)\n",
    "train_loss = history.history['loss']\n",
    "valid_loss = history.history['val_loss']\n",
    "plt.plot(epochs, train_loss, 'bo', label='Training Loss')\n",
    "plt.plot(epochs, valid_loss, 'r', label='Validation Loss')\n",
    "plt.xlabel('Epochs')\n",
    "plt.ylabel('Validation Loss')\n",
    "plt.yticks(range(0, 5))\n",
    "plt.legend()\n",
    "plt.show()\n"
   ]
  },
  {
   "cell_type": "markdown",
   "metadata": {
    "id": "7AjNrJjjDGnI"
   },
   "source": [
    "## 5. Evaluate the model on the test set (5 points)\n",
    "\n",
    "Do NOT used the test set until now. Make sure that your model parameters and hyper-parameters are independent of the test set."
   ]
  },
  {
   "cell_type": "code",
   "execution_count": 13,
   "metadata": {
    "colab": {
     "base_uri": "https://localhost:8080/"
    },
    "id": "rxGzwthWDGnI",
    "outputId": "a6efc486-71c9-48ba-95b8-3299baf9e566"
   },
   "outputs": [
    {
     "name": "stdout",
     "output_type": "stream",
     "text": [
      "313/313 [==============================] - 0s 1000us/step - loss: 1.1601 - accuracy: 0.5913\n",
      "loss = 1.1601462364196777\n",
      "accuracy = 0.5913000106811523\n"
     ]
    }
   ],
   "source": [
    "# Evaluate your model performance (testing accuracy) on testing data.\n",
    "m1 = model.evaluate(x_test, y_test_vec)\n",
    "print('loss = ' + str(m1[0]))\n",
    "print('accuracy = ' + str(m1[1]))"
   ]
  },
  {
   "cell_type": "markdown",
   "metadata": {
    "id": "dEnH6HhCDGnJ"
   },
   "source": [
    "## 6. Building model with new structure (25 points)\n",
    "- In this section, you can build your model with adding new layers (e.g, BN layer or dropout layer, ...).\n",
    "- If you want to regularize a ```Conv/Dense layer```, you should place a ```Dropout layer``` before the ```Conv/Dense layer```.\n",
    "- You can try to compare their loss curve and testing accuracy and analyze your findings.\n",
    "- You need to try at lease two different model structures."
   ]
  },
  {
   "cell_type": "markdown",
   "metadata": {
    "id": "zN3EhfYwmLz8"
   },
   "source": [
    "###Model 1"
   ]
  },
  {
   "cell_type": "code",
   "execution_count": 7,
   "metadata": {
    "colab": {
     "base_uri": "https://localhost:8080/",
     "height": 1000
    },
    "id": "gm9J_1HADGnJ",
    "outputId": "0724bbc8-0892-4f96-9107-50f29845a5fd"
   },
   "outputs": [
    {
     "name": "stdout",
     "output_type": "stream",
     "text": [
      "Epoch 1/50\n",
      "157/157 [==============================] - 3s 11ms/step - loss: 5.5145 - accuracy: 0.1135 - val_loss: 2.2842 - val_accuracy: 0.1403\n",
      "Epoch 2/50\n",
      "157/157 [==============================] - 1s 7ms/step - loss: 2.2502 - accuracy: 0.1587 - val_loss: 2.2393 - val_accuracy: 0.1582\n",
      "Epoch 3/50\n",
      "157/157 [==============================] - 1s 7ms/step - loss: 2.1455 - accuracy: 0.1965 - val_loss: 2.0836 - val_accuracy: 0.2228\n",
      "Epoch 4/50\n",
      "157/157 [==============================] - 1s 7ms/step - loss: 2.0519 - accuracy: 0.2232 - val_loss: 1.9832 - val_accuracy: 0.2472\n",
      "Epoch 5/50\n",
      "157/157 [==============================] - 1s 7ms/step - loss: 2.0026 - accuracy: 0.2366 - val_loss: 1.9340 - val_accuracy: 0.2678\n",
      "Epoch 6/50\n",
      "157/157 [==============================] - 1s 7ms/step - loss: 1.9564 - accuracy: 0.2537 - val_loss: 1.9065 - val_accuracy: 0.2733\n",
      "Epoch 7/50\n",
      "157/157 [==============================] - 1s 7ms/step - loss: 1.8945 - accuracy: 0.2785 - val_loss: 1.8116 - val_accuracy: 0.3258\n",
      "Epoch 8/50\n",
      "157/157 [==============================] - 1s 7ms/step - loss: 1.8435 - accuracy: 0.3015 - val_loss: 1.7558 - val_accuracy: 0.3586\n",
      "Epoch 9/50\n",
      "157/157 [==============================] - 1s 7ms/step - loss: 1.8065 - accuracy: 0.3194 - val_loss: 1.8021 - val_accuracy: 0.3265\n",
      "Epoch 10/50\n",
      "157/157 [==============================] - 1s 7ms/step - loss: 1.7761 - accuracy: 0.3314 - val_loss: 1.6935 - val_accuracy: 0.3834\n",
      "Epoch 11/50\n",
      "157/157 [==============================] - 1s 7ms/step - loss: 1.7470 - accuracy: 0.3467 - val_loss: 1.7071 - val_accuracy: 0.3664\n",
      "Epoch 12/50\n",
      "157/157 [==============================] - 1s 7ms/step - loss: 1.7213 - accuracy: 0.3558 - val_loss: 1.6808 - val_accuracy: 0.3785\n",
      "Epoch 13/50\n",
      "157/157 [==============================] - 1s 7ms/step - loss: 1.6805 - accuracy: 0.3728 - val_loss: 1.7073 - val_accuracy: 0.3736\n",
      "Epoch 14/50\n",
      "157/157 [==============================] - 1s 7ms/step - loss: 1.6682 - accuracy: 0.3873 - val_loss: 1.6336 - val_accuracy: 0.4064\n",
      "Epoch 15/50\n",
      "157/157 [==============================] - 1s 7ms/step - loss: 1.6280 - accuracy: 0.4026 - val_loss: 1.7022 - val_accuracy: 0.3896\n",
      "Epoch 16/50\n",
      "157/157 [==============================] - 1s 7ms/step - loss: 1.6068 - accuracy: 0.4155 - val_loss: 1.6022 - val_accuracy: 0.4227\n",
      "Epoch 17/50\n",
      "157/157 [==============================] - 1s 7ms/step - loss: 1.5825 - accuracy: 0.4251 - val_loss: 1.5645 - val_accuracy: 0.4342\n",
      "Epoch 18/50\n",
      "157/157 [==============================] - 1s 7ms/step - loss: 1.5397 - accuracy: 0.4410 - val_loss: 1.5588 - val_accuracy: 0.4300\n",
      "Epoch 19/50\n",
      "157/157 [==============================] - 1s 7ms/step - loss: 1.5419 - accuracy: 0.4408 - val_loss: 1.5894 - val_accuracy: 0.4378\n",
      "Epoch 20/50\n",
      "157/157 [==============================] - 1s 7ms/step - loss: 1.5145 - accuracy: 0.4528 - val_loss: 1.4877 - val_accuracy: 0.4629\n",
      "Epoch 21/50\n",
      "157/157 [==============================] - 1s 7ms/step - loss: 1.4943 - accuracy: 0.4636 - val_loss: 1.4030 - val_accuracy: 0.4950\n",
      "Epoch 22/50\n",
      "157/157 [==============================] - 1s 7ms/step - loss: 1.4706 - accuracy: 0.4723 - val_loss: 1.4582 - val_accuracy: 0.4846\n",
      "Epoch 23/50\n",
      "157/157 [==============================] - 1s 7ms/step - loss: 1.4470 - accuracy: 0.4806 - val_loss: 1.4412 - val_accuracy: 0.4779\n",
      "Epoch 24/50\n",
      "157/157 [==============================] - 1s 7ms/step - loss: 1.4372 - accuracy: 0.4871 - val_loss: 1.3854 - val_accuracy: 0.5034\n",
      "Epoch 25/50\n",
      "157/157 [==============================] - 1s 7ms/step - loss: 1.4152 - accuracy: 0.4907 - val_loss: 1.3424 - val_accuracy: 0.5214\n",
      "Epoch 26/50\n",
      "157/157 [==============================] - 1s 7ms/step - loss: 1.3928 - accuracy: 0.4999 - val_loss: 1.3366 - val_accuracy: 0.5310\n",
      "Epoch 27/50\n",
      "157/157 [==============================] - 1s 7ms/step - loss: 1.3836 - accuracy: 0.5083 - val_loss: 1.3102 - val_accuracy: 0.5453\n",
      "Epoch 28/50\n",
      "157/157 [==============================] - 1s 7ms/step - loss: 1.3612 - accuracy: 0.5164 - val_loss: 1.2731 - val_accuracy: 0.5604\n",
      "Epoch 29/50\n",
      "157/157 [==============================] - 1s 7ms/step - loss: 1.3369 - accuracy: 0.5258 - val_loss: 1.2448 - val_accuracy: 0.5704\n",
      "Epoch 30/50\n",
      "157/157 [==============================] - 1s 7ms/step - loss: 1.3204 - accuracy: 0.5314 - val_loss: 1.2185 - val_accuracy: 0.5753\n",
      "Epoch 31/50\n",
      "157/157 [==============================] - 1s 7ms/step - loss: 1.3192 - accuracy: 0.5318 - val_loss: 1.1861 - val_accuracy: 0.5981\n",
      "Epoch 32/50\n",
      "157/157 [==============================] - 1s 7ms/step - loss: 1.2965 - accuracy: 0.5424 - val_loss: 1.1904 - val_accuracy: 0.5834\n",
      "Epoch 33/50\n",
      "157/157 [==============================] - 1s 7ms/step - loss: 1.2812 - accuracy: 0.5501 - val_loss: 1.3754 - val_accuracy: 0.5221\n",
      "Epoch 34/50\n",
      "157/157 [==============================] - 1s 7ms/step - loss: 1.2772 - accuracy: 0.5519 - val_loss: 1.1752 - val_accuracy: 0.5856\n",
      "Epoch 35/50\n",
      "157/157 [==============================] - 1s 7ms/step - loss: 1.2686 - accuracy: 0.5564 - val_loss: 1.1289 - val_accuracy: 0.6110\n",
      "Epoch 36/50\n",
      "157/157 [==============================] - 1s 7ms/step - loss: 1.2413 - accuracy: 0.5644 - val_loss: 1.1617 - val_accuracy: 0.5945\n",
      "Epoch 37/50\n",
      "157/157 [==============================] - 1s 7ms/step - loss: 1.2348 - accuracy: 0.5676 - val_loss: 1.1607 - val_accuracy: 0.6107\n",
      "Epoch 38/50\n",
      "157/157 [==============================] - 1s 7ms/step - loss: 1.2213 - accuracy: 0.5739 - val_loss: 1.1094 - val_accuracy: 0.6165\n",
      "Epoch 39/50\n",
      "157/157 [==============================] - 1s 7ms/step - loss: 1.2098 - accuracy: 0.5783 - val_loss: 1.1201 - val_accuracy: 0.6097\n",
      "Epoch 40/50\n",
      "157/157 [==============================] - 1s 7ms/step - loss: 1.2095 - accuracy: 0.5799 - val_loss: 1.0833 - val_accuracy: 0.6305\n",
      "Epoch 41/50\n",
      "157/157 [==============================] - 1s 7ms/step - loss: 1.1893 - accuracy: 0.5882 - val_loss: 1.0512 - val_accuracy: 0.6413\n",
      "Epoch 42/50\n",
      "157/157 [==============================] - 1s 7ms/step - loss: 1.1738 - accuracy: 0.5927 - val_loss: 1.0522 - val_accuracy: 0.6321\n",
      "Epoch 43/50\n",
      "157/157 [==============================] - 1s 7ms/step - loss: 1.1602 - accuracy: 0.5972 - val_loss: 1.0778 - val_accuracy: 0.6407\n",
      "Epoch 44/50\n",
      "157/157 [==============================] - 1s 7ms/step - loss: 1.1600 - accuracy: 0.5978 - val_loss: 1.0842 - val_accuracy: 0.6241\n",
      "Epoch 45/50\n",
      "157/157 [==============================] - 1s 7ms/step - loss: 1.1473 - accuracy: 0.6008 - val_loss: 1.0888 - val_accuracy: 0.6165\n",
      "Epoch 46/50\n",
      "157/157 [==============================] - 1s 7ms/step - loss: 1.1375 - accuracy: 0.6061 - val_loss: 1.0401 - val_accuracy: 0.6464\n",
      "Epoch 47/50\n",
      "157/157 [==============================] - 1s 7ms/step - loss: 1.1263 - accuracy: 0.6067 - val_loss: 1.0325 - val_accuracy: 0.6568\n",
      "Epoch 48/50\n",
      "157/157 [==============================] - 1s 7ms/step - loss: 1.1096 - accuracy: 0.6150 - val_loss: 0.9811 - val_accuracy: 0.6694\n",
      "Epoch 49/50\n",
      "157/157 [==============================] - 1s 7ms/step - loss: 1.1031 - accuracy: 0.6157 - val_loss: 1.0125 - val_accuracy: 0.6582\n",
      "Epoch 50/50\n",
      "157/157 [==============================] - 1s 7ms/step - loss: 1.0948 - accuracy: 0.6167 - val_loss: 0.9656 - val_accuracy: 0.6753\n"
     ]
    },
    {
     "data": {
      "image/png": "[encoded data removed]",
      "text/plain": [
       "<Figure size 432x288 with 1 Axes>"
      ]
     },
     "metadata": {
      "needs_background": "light"
     },
     "output_type": "display_data"
    }
   ],
   "source": [
    "model1 = models.Sequential()\n",
    "model1.add(layers.Conv2D(32, (3, 3), activation = 'relu', padding = 'valid', input_shape=(32, 32, 3)))\n",
    "model1.add(layers.MaxPool2D((2, 2)))\n",
    "model1.add(layers.Dropout(0.6))\n",
    "model1.add(layers.Conv2D(64, (4, 4), activation = 'relu', padding = 'valid'))\n",
    "model1.add(layers.MaxPool2D((2, 2)))\n",
    "model1.add(layers.Dropout(0.6))\n",
    "model1.add(layers.Flatten())\n",
    "model1.add(layers.Dense(256, activation ='relu'))\n",
    "model1.add(layers.Dense(128, activation ='relu'))\n",
    "model1.add(layers.Dropout(0.4))\n",
    "model1.add(layers.Dense(10, activation = 'softmax'))\n",
    "\n",
    "model1.compile(optimizer = tf.keras.optimizers.Adam(),\n",
    "              loss = 'categorical_crossentropy',\n",
    "              metrics = ['accuracy'])\n",
    "\n",
    "history1 = model1.fit(x_tr, y_tr,\n",
    "                    batch_size=256, epochs= 50,\n",
    "                    validation_data=(x_val, y_val))\n",
    "\n",
    "epochs = range(50)\n",
    "train_loss = history1.history['loss']\n",
    "valid_loss = history1.history['val_loss']\n",
    "plt.plot(epochs, train_loss, 'bo', label='Training Loss')\n",
    "plt.plot(epochs, valid_loss, 'r', label='Validation Loss')\n",
    "plt.xlabel('Epochs')\n",
    "plt.ylabel('Validation Loss')\n",
    "plt.legend()\n",
    "plt.show()"
   ]
  },
  {
   "cell_type": "code",
   "execution_count": 8,
   "metadata": {
    "colab": {
     "base_uri": "https://localhost:8080/",
     "height": 1000
    },
    "id": "d8leT7_JRAK-",
    "outputId": "4539fa23-0361-4e40-e0c8-3bb10bdc6439"
   },
   "outputs": [
    {
     "name": "stdout",
     "output_type": "stream",
     "text": [
      "Epoch 1/50\n",
      "196/196 [==============================] - 3s 10ms/step - loss: 1.1232 - accuracy: 0.6138 - val_loss: 1.0018 - val_accuracy: 0.6478\n",
      "Epoch 2/50\n",
      "196/196 [==============================] - 1s 7ms/step - loss: 1.0992 - accuracy: 0.6203 - val_loss: 0.9778 - val_accuracy: 0.6681\n",
      "Epoch 3/50\n",
      "196/196 [==============================] - 1s 7ms/step - loss: 1.0880 - accuracy: 0.6254 - val_loss: 0.9703 - val_accuracy: 0.6663\n",
      "Epoch 4/50\n",
      "196/196 [==============================] - 1s 7ms/step - loss: 1.0686 - accuracy: 0.6304 - val_loss: 0.9559 - val_accuracy: 0.6793\n",
      "Epoch 5/50\n",
      "196/196 [==============================] - 1s 7ms/step - loss: 1.0680 - accuracy: 0.6336 - val_loss: 0.9467 - val_accuracy: 0.6883\n",
      "Epoch 6/50\n",
      "196/196 [==============================] - 1s 7ms/step - loss: 1.0590 - accuracy: 0.6375 - val_loss: 0.9535 - val_accuracy: 0.6765\n",
      "Epoch 7/50\n",
      "196/196 [==============================] - 1s 7ms/step - loss: 1.0491 - accuracy: 0.6383 - val_loss: 0.9339 - val_accuracy: 0.6761\n",
      "Epoch 8/50\n",
      "196/196 [==============================] - 1s 7ms/step - loss: 1.0397 - accuracy: 0.6404 - val_loss: 0.9207 - val_accuracy: 0.6863\n",
      "Epoch 9/50\n",
      "196/196 [==============================] - 1s 7ms/step - loss: 1.0229 - accuracy: 0.6469 - val_loss: 0.9004 - val_accuracy: 0.6941\n",
      "Epoch 10/50\n",
      "196/196 [==============================] - 1s 7ms/step - loss: 1.0129 - accuracy: 0.6512 - val_loss: 0.8973 - val_accuracy: 0.6956\n",
      "Epoch 11/50\n",
      "196/196 [==============================] - 1s 7ms/step - loss: 1.0144 - accuracy: 0.6504 - val_loss: 0.9026 - val_accuracy: 0.6879\n",
      "Epoch 12/50\n",
      "196/196 [==============================] - 1s 7ms/step - loss: 1.0061 - accuracy: 0.6549 - val_loss: 0.8997 - val_accuracy: 0.6976\n",
      "Epoch 13/50\n",
      "196/196 [==============================] - 1s 7ms/step - loss: 0.9990 - accuracy: 0.6558 - val_loss: 0.8841 - val_accuracy: 0.6963\n",
      "Epoch 14/50\n",
      "196/196 [==============================] - 1s 7ms/step - loss: 0.9909 - accuracy: 0.6607 - val_loss: 0.8652 - val_accuracy: 0.7127\n",
      "Epoch 15/50\n",
      "196/196 [==============================] - 1s 7ms/step - loss: 0.9928 - accuracy: 0.6577 - val_loss: 0.8556 - val_accuracy: 0.7116\n",
      "Epoch 16/50\n",
      "196/196 [==============================] - 1s 7ms/step - loss: 0.9891 - accuracy: 0.6629 - val_loss: 0.8997 - val_accuracy: 0.6919\n",
      "Epoch 17/50\n",
      "196/196 [==============================] - 1s 7ms/step - loss: 0.9751 - accuracy: 0.6642 - val_loss: 0.8488 - val_accuracy: 0.7078\n",
      "Epoch 18/50\n",
      "196/196 [==============================] - 1s 7ms/step - loss: 0.9639 - accuracy: 0.6682 - val_loss: 0.8589 - val_accuracy: 0.7077\n",
      "Epoch 19/50\n",
      "196/196 [==============================] - 1s 7ms/step - loss: 0.9659 - accuracy: 0.6675 - val_loss: 0.8464 - val_accuracy: 0.7096\n",
      "Epoch 20/50\n",
      "196/196 [==============================] - 1s 7ms/step - loss: 0.9547 - accuracy: 0.6678 - val_loss: 0.8518 - val_accuracy: 0.7150\n",
      "Epoch 21/50\n",
      "196/196 [==============================] - 1s 7ms/step - loss: 0.9467 - accuracy: 0.6747 - val_loss: 0.8503 - val_accuracy: 0.7072\n",
      "Epoch 22/50\n",
      "196/196 [==============================] - 1s 7ms/step - loss: 0.9516 - accuracy: 0.6723 - val_loss: 0.8664 - val_accuracy: 0.6994\n",
      "Epoch 23/50\n",
      "196/196 [==============================] - 1s 7ms/step - loss: 0.9433 - accuracy: 0.6770 - val_loss: 0.8169 - val_accuracy: 0.7204\n",
      "Epoch 24/50\n",
      "196/196 [==============================] - 1s 7ms/step - loss: 0.9394 - accuracy: 0.6763 - val_loss: 0.8528 - val_accuracy: 0.7037\n",
      "Epoch 25/50\n",
      "196/196 [==============================] - 1s 7ms/step - loss: 0.9276 - accuracy: 0.6809 - val_loss: 0.8272 - val_accuracy: 0.7197\n",
      "Epoch 26/50\n",
      "196/196 [==============================] - 1s 7ms/step - loss: 0.9344 - accuracy: 0.6803 - val_loss: 0.8425 - val_accuracy: 0.7066\n",
      "Epoch 27/50\n",
      "196/196 [==============================] - 1s 7ms/step - loss: 0.9278 - accuracy: 0.6793 - val_loss: 0.8254 - val_accuracy: 0.7229\n",
      "Epoch 28/50\n",
      "196/196 [==============================] - 1s 7ms/step - loss: 0.9181 - accuracy: 0.6839 - val_loss: 0.8544 - val_accuracy: 0.7069\n",
      "Epoch 29/50\n",
      "196/196 [==============================] - 1s 7ms/step - loss: 0.9112 - accuracy: 0.6856 - val_loss: 0.8199 - val_accuracy: 0.7189\n",
      "Epoch 30/50\n",
      "196/196 [==============================] - 1s 7ms/step - loss: 0.9063 - accuracy: 0.6889 - val_loss: 0.8244 - val_accuracy: 0.7200\n",
      "Epoch 31/50\n",
      "196/196 [==============================] - 1s 7ms/step - loss: 0.9041 - accuracy: 0.6901 - val_loss: 0.8014 - val_accuracy: 0.7259\n",
      "Epoch 32/50\n",
      "196/196 [==============================] - 1s 7ms/step - loss: 0.9104 - accuracy: 0.6880 - val_loss: 0.8452 - val_accuracy: 0.7079\n",
      "Epoch 33/50\n",
      "196/196 [==============================] - 1s 7ms/step - loss: 0.8999 - accuracy: 0.6926 - val_loss: 0.8118 - val_accuracy: 0.7240\n",
      "Epoch 34/50\n",
      "196/196 [==============================] - 1s 7ms/step - loss: 0.8998 - accuracy: 0.6945 - val_loss: 0.8015 - val_accuracy: 0.7282\n",
      "Epoch 35/50\n",
      "196/196 [==============================] - 1s 7ms/step - loss: 0.8937 - accuracy: 0.6955 - val_loss: 0.8161 - val_accuracy: 0.7236\n",
      "Epoch 36/50\n",
      "196/196 [==============================] - 1s 7ms/step - loss: 0.8891 - accuracy: 0.7002 - val_loss: 0.7739 - val_accuracy: 0.7419\n",
      "Epoch 37/50\n",
      "196/196 [==============================] - 1s 7ms/step - loss: 0.8874 - accuracy: 0.6976 - val_loss: 0.8639 - val_accuracy: 0.7021\n",
      "Epoch 38/50\n",
      "196/196 [==============================] - 1s 7ms/step - loss: 0.8865 - accuracy: 0.6961 - val_loss: 0.8050 - val_accuracy: 0.7283\n",
      "Epoch 39/50\n",
      "196/196 [==============================] - 1s 7ms/step - loss: 0.8788 - accuracy: 0.7007 - val_loss: 0.8013 - val_accuracy: 0.7312\n",
      "Epoch 40/50\n",
      "196/196 [==============================] - 1s 7ms/step - loss: 0.8797 - accuracy: 0.6990 - val_loss: 0.7974 - val_accuracy: 0.7300\n",
      "Epoch 41/50\n",
      "196/196 [==============================] - 1s 7ms/step - loss: 0.8667 - accuracy: 0.7025 - val_loss: 0.8013 - val_accuracy: 0.7270\n",
      "Epoch 42/50\n",
      "196/196 [==============================] - 6s 31ms/step - loss: 0.8695 - accuracy: 0.7012 - val_loss: 0.8300 - val_accuracy: 0.7146\n",
      "Epoch 43/50\n",
      "196/196 [==============================] - 4s 22ms/step - loss: 0.8591 - accuracy: 0.7072 - val_loss: 0.7951 - val_accuracy: 0.7345\n",
      "Epoch 44/50\n",
      "196/196 [==============================] - 4s 23ms/step - loss: 0.8648 - accuracy: 0.7049 - val_loss: 0.8177 - val_accuracy: 0.7194\n",
      "Epoch 45/50\n",
      "196/196 [==============================] - 1s 7ms/step - loss: 0.8572 - accuracy: 0.7069 - val_loss: 0.7993 - val_accuracy: 0.7292\n",
      "Epoch 46/50\n",
      "196/196 [==============================] - 1s 5ms/step - loss: 0.8600 - accuracy: 0.7037 - val_loss: 0.8180 - val_accuracy: 0.7226\n",
      "Epoch 47/50\n",
      "196/196 [==============================] - 1s 5ms/step - loss: 0.8555 - accuracy: 0.7077 - val_loss: 0.8185 - val_accuracy: 0.7233\n",
      "Epoch 48/50\n",
      "196/196 [==============================] - 1s 5ms/step - loss: 0.8552 - accuracy: 0.7083 - val_loss: 0.7852 - val_accuracy: 0.7343\n",
      "Epoch 49/50\n",
      "196/196 [==============================] - 1s 5ms/step - loss: 0.8603 - accuracy: 0.7062 - val_loss: 0.7815 - val_accuracy: 0.7349\n",
      "Epoch 50/50\n",
      "196/196 [==============================] - 1s 5ms/step - loss: 0.8495 - accuracy: 0.7099 - val_loss: 0.7773 - val_accuracy: 0.7382\n"
     ]
    },
    {
     "data": {
      "image/png": "[encoded data removed]",
      "text/plain": [
       "<Figure size 432x288 with 1 Axes>"
      ]
     },
     "metadata": {
      "needs_background": "light"
     },
     "output_type": "display_data"
    }
   ],
   "source": [
    "model1.compile(optimizer = tf.keras.optimizers.Adam(),\n",
    "              loss = 'categorical_crossentropy',\n",
    "              metrics = ['accuracy'])\n",
    "\n",
    "history1 = model1.fit(x_train, y_train_vec,\n",
    "                    batch_size=256, epochs= 50,\n",
    "                    validation_data=(x_test, y_test_vec))\n",
    "\n",
    "epochs = range(50)\n",
    "train_loss = history1.history['loss']\n",
    "valid_loss = history1.history['val_loss']\n",
    "plt.plot(epochs, train_loss, 'bo', label='Training Loss')\n",
    "plt.plot(epochs, valid_loss, 'r', label='Validation Loss')\n",
    "plt.xlabel('Epochs')\n",
    "plt.ylabel('Validation Loss')\n",
    "plt.legend()\n",
    "plt.show()"
   ]
  },
  {
   "cell_type": "code",
   "execution_count": 16,
   "metadata": {
    "colab": {
     "base_uri": "https://localhost:8080/"
    },
    "id": "N90qXGBYiosA",
    "outputId": "0d0d3406-59c6-4811-9186-3d086d4178e1"
   },
   "outputs": [
    {
     "name": "stdout",
     "output_type": "stream",
     "text": [
      "313/313 [==============================] - 0s 1ms/step - loss: 0.8328 - accuracy: 0.7514\n",
      "loss = 0.832772433757782\n",
      "accuracy = 0.7513999938964844\n"
     ]
    }
   ],
   "source": [
    "m2 = model1.evaluate(x_test, y_test_vec)\n",
    "print('loss = ' + str(m2[0]))\n",
    "print('accuracy = ' + str(m2[1]))"
   ]
  },
  {
   "cell_type": "markdown",
   "metadata": {
    "id": "9W7_uPj2malH"
   },
   "source": [
    "###Model 2"
   ]
  },
  {
   "cell_type": "code",
   "execution_count": 10,
   "metadata": {
    "colab": {
     "base_uri": "https://localhost:8080/",
     "height": 1000
    },
    "id": "3k4LuT4moIZM",
    "outputId": "aa462336-a2dd-4492-cf8e-7e7c30db96da"
   },
   "outputs": [
    {
     "name": "stdout",
     "output_type": "stream",
     "text": [
      "Epoch 1/50\n",
      "157/157 [==============================] - 2s 8ms/step - loss: 5.7873 - accuracy: 0.2380 - val_loss: 2.6621 - val_accuracy: 0.2827\n",
      "Epoch 2/50\n",
      "157/157 [==============================] - 1s 5ms/step - loss: 2.3428 - accuracy: 0.3108 - val_loss: 2.2220 - val_accuracy: 0.3203\n",
      "Epoch 3/50\n",
      "157/157 [==============================] - 1s 5ms/step - loss: 2.0404 - accuracy: 0.3499 - val_loss: 2.0135 - val_accuracy: 0.3485\n",
      "Epoch 4/50\n",
      "157/157 [==============================] - 1s 5ms/step - loss: 1.8766 - accuracy: 0.3767 - val_loss: 1.8868 - val_accuracy: 0.3633\n",
      "Epoch 5/50\n",
      "157/157 [==============================] - 1s 5ms/step - loss: 1.7744 - accuracy: 0.3979 - val_loss: 1.8235 - val_accuracy: 0.3821\n",
      "Epoch 6/50\n",
      "157/157 [==============================] - 1s 5ms/step - loss: 1.6998 - accuracy: 0.4150 - val_loss: 1.7562 - val_accuracy: 0.3982\n",
      "Epoch 7/50\n",
      "157/157 [==============================] - 1s 5ms/step - loss: 1.6428 - accuracy: 0.4305 - val_loss: 1.7045 - val_accuracy: 0.4149\n",
      "Epoch 8/50\n",
      "157/157 [==============================] - 1s 5ms/step - loss: 1.5966 - accuracy: 0.4455 - val_loss: 1.6660 - val_accuracy: 0.4224\n",
      "Epoch 9/50\n",
      "157/157 [==============================] - 1s 5ms/step - loss: 1.5570 - accuracy: 0.4563 - val_loss: 1.6716 - val_accuracy: 0.4244\n",
      "Epoch 10/50\n",
      "157/157 [==============================] - 1s 5ms/step - loss: 1.5245 - accuracy: 0.4674 - val_loss: 1.6184 - val_accuracy: 0.4376\n",
      "Epoch 11/50\n",
      "157/157 [==============================] - 1s 5ms/step - loss: 1.4942 - accuracy: 0.4775 - val_loss: 1.5949 - val_accuracy: 0.4530\n",
      "Epoch 12/50\n",
      "157/157 [==============================] - 1s 5ms/step - loss: 1.4677 - accuracy: 0.4848 - val_loss: 1.5733 - val_accuracy: 0.4596\n",
      "Epoch 13/50\n",
      "157/157 [==============================] - 1s 5ms/step - loss: 1.4429 - accuracy: 0.4949 - val_loss: 1.5773 - val_accuracy: 0.4611\n",
      "Epoch 14/50\n",
      "157/157 [==============================] - 1s 5ms/step - loss: 1.4211 - accuracy: 0.5031 - val_loss: 1.5366 - val_accuracy: 0.4700\n",
      "Epoch 15/50\n",
      "157/157 [==============================] - 1s 5ms/step - loss: 1.3998 - accuracy: 0.5093 - val_loss: 1.5275 - val_accuracy: 0.4711\n",
      "Epoch 16/50\n",
      "157/157 [==============================] - 1s 5ms/step - loss: 1.3801 - accuracy: 0.5157 - val_loss: 1.5081 - val_accuracy: 0.4769\n",
      "Epoch 17/50\n",
      "157/157 [==============================] - 1s 5ms/step - loss: 1.3618 - accuracy: 0.5224 - val_loss: 1.5034 - val_accuracy: 0.4799\n",
      "Epoch 18/50\n",
      "157/157 [==============================] - 1s 5ms/step - loss: 1.3450 - accuracy: 0.5279 - val_loss: 1.4791 - val_accuracy: 0.4869\n",
      "Epoch 19/50\n",
      "157/157 [==============================] - 1s 5ms/step - loss: 1.3279 - accuracy: 0.5334 - val_loss: 1.4691 - val_accuracy: 0.4915\n",
      "Epoch 20/50\n",
      "157/157 [==============================] - 1s 5ms/step - loss: 1.3124 - accuracy: 0.5383 - val_loss: 1.4543 - val_accuracy: 0.4982\n",
      "Epoch 21/50\n",
      "157/157 [==============================] - 1s 5ms/step - loss: 1.2984 - accuracy: 0.5450 - val_loss: 1.4427 - val_accuracy: 0.5004\n",
      "Epoch 22/50\n",
      "157/157 [==============================] - 1s 5ms/step - loss: 1.2832 - accuracy: 0.5504 - val_loss: 1.4448 - val_accuracy: 0.5002\n",
      "Epoch 23/50\n",
      "157/157 [==============================] - 1s 5ms/step - loss: 1.2697 - accuracy: 0.5554 - val_loss: 1.4274 - val_accuracy: 0.5073\n",
      "Epoch 24/50\n",
      "157/157 [==============================] - 1s 5ms/step - loss: 1.2574 - accuracy: 0.5593 - val_loss: 1.4180 - val_accuracy: 0.5117\n",
      "Epoch 25/50\n",
      "157/157 [==============================] - 1s 5ms/step - loss: 1.2436 - accuracy: 0.5655 - val_loss: 1.4111 - val_accuracy: 0.5125\n",
      "Epoch 26/50\n",
      "157/157 [==============================] - 1s 5ms/step - loss: 1.2321 - accuracy: 0.5691 - val_loss: 1.4136 - val_accuracy: 0.5091\n",
      "Epoch 27/50\n",
      "157/157 [==============================] - 1s 5ms/step - loss: 1.2202 - accuracy: 0.5739 - val_loss: 1.3938 - val_accuracy: 0.5192\n",
      "Epoch 28/50\n",
      "157/157 [==============================] - 1s 5ms/step - loss: 1.2091 - accuracy: 0.5771 - val_loss: 1.3925 - val_accuracy: 0.5207\n",
      "Epoch 29/50\n",
      "157/157 [==============================] - 1s 5ms/step - loss: 1.1982 - accuracy: 0.5817 - val_loss: 1.3877 - val_accuracy: 0.5236\n",
      "Epoch 30/50\n",
      "157/157 [==============================] - 1s 5ms/step - loss: 1.1877 - accuracy: 0.5863 - val_loss: 1.3653 - val_accuracy: 0.5312\n",
      "Epoch 31/50\n",
      "157/157 [==============================] - 1s 5ms/step - loss: 1.1769 - accuracy: 0.5904 - val_loss: 1.3606 - val_accuracy: 0.5318\n",
      "Epoch 32/50\n",
      "157/157 [==============================] - 1s 5ms/step - loss: 1.1671 - accuracy: 0.5932 - val_loss: 1.3555 - val_accuracy: 0.5354\n",
      "Epoch 33/50\n",
      "157/157 [==============================] - 1s 5ms/step - loss: 1.1575 - accuracy: 0.5971 - val_loss: 1.3553 - val_accuracy: 0.5353\n",
      "Epoch 34/50\n",
      "157/157 [==============================] - 1s 5ms/step - loss: 1.1477 - accuracy: 0.6011 - val_loss: 1.3478 - val_accuracy: 0.5385\n",
      "Epoch 35/50\n",
      "157/157 [==============================] - 1s 5ms/step - loss: 1.1390 - accuracy: 0.6038 - val_loss: 1.3408 - val_accuracy: 0.5393\n",
      "Epoch 36/50\n",
      "157/157 [==============================] - 1s 5ms/step - loss: 1.1307 - accuracy: 0.6069 - val_loss: 1.3402 - val_accuracy: 0.5421\n",
      "Epoch 37/50\n",
      "157/157 [==============================] - 1s 5ms/step - loss: 1.1226 - accuracy: 0.6107 - val_loss: 1.3308 - val_accuracy: 0.5452\n",
      "Epoch 38/50\n",
      "157/157 [==============================] - 1s 5ms/step - loss: 1.1135 - accuracy: 0.6143 - val_loss: 1.3243 - val_accuracy: 0.5468\n",
      "Epoch 39/50\n",
      "157/157 [==============================] - 1s 5ms/step - loss: 1.1053 - accuracy: 0.6166 - val_loss: 1.3195 - val_accuracy: 0.5464\n",
      "Epoch 40/50\n",
      "157/157 [==============================] - 1s 5ms/step - loss: 1.0971 - accuracy: 0.6194 - val_loss: 1.3165 - val_accuracy: 0.5484\n",
      "Epoch 41/50\n",
      "157/157 [==============================] - 1s 5ms/step - loss: 1.0901 - accuracy: 0.6231 - val_loss: 1.3107 - val_accuracy: 0.5502\n",
      "Epoch 42/50\n",
      "157/157 [==============================] - 1s 5ms/step - loss: 1.0823 - accuracy: 0.6243 - val_loss: 1.3212 - val_accuracy: 0.5479\n",
      "Epoch 43/50\n",
      "157/157 [==============================] - 1s 5ms/step - loss: 1.0750 - accuracy: 0.6281 - val_loss: 1.2998 - val_accuracy: 0.5581\n",
      "Epoch 44/50\n",
      "157/157 [==============================] - 1s 5ms/step - loss: 1.0680 - accuracy: 0.6324 - val_loss: 1.2965 - val_accuracy: 0.5576\n",
      "Epoch 45/50\n",
      "157/157 [==============================] - 1s 5ms/step - loss: 1.0609 - accuracy: 0.6332 - val_loss: 1.2997 - val_accuracy: 0.5524\n",
      "Epoch 46/50\n",
      "157/157 [==============================] - 1s 5ms/step - loss: 1.0542 - accuracy: 0.6350 - val_loss: 1.2892 - val_accuracy: 0.5623\n",
      "Epoch 47/50\n",
      "157/157 [==============================] - 1s 5ms/step - loss: 1.0472 - accuracy: 0.6380 - val_loss: 1.2915 - val_accuracy: 0.5590\n",
      "Epoch 48/50\n",
      "157/157 [==============================] - 1s 5ms/step - loss: 1.0406 - accuracy: 0.6415 - val_loss: 1.2806 - val_accuracy: 0.5652\n",
      "Epoch 49/50\n",
      "157/157 [==============================] - 1s 5ms/step - loss: 1.0335 - accuracy: 0.6424 - val_loss: 1.2829 - val_accuracy: 0.5644\n",
      "Epoch 50/50\n",
      "157/157 [==============================] - 1s 5ms/step - loss: 1.0282 - accuracy: 0.6446 - val_loss: 1.2752 - val_accuracy: 0.5676\n"
     ]
    },
    {
     "data": {
      "image/png": "[encoded data removed]",
      "text/plain": [
       "<Figure size 432x288 with 1 Axes>"
      ]
     },
     "metadata": {
      "needs_background": "light"
     },
     "output_type": "display_data"
    }
   ],
   "source": [
    "model2 = models.Sequential()\n",
    "model2.add(layers.Conv2D(32, (3, 3), activation = 'relu', padding = 'valid', input_shape=(32, 32, 3)))\n",
    "model2.add(layers.MaxPool2D((2, 2)))\n",
    "model2.add(layers.Normalization())\n",
    "model2.add(layers.Conv2D(64, (4, 4), activation = 'relu', padding = 'valid'))\n",
    "model2.add(layers.MaxPool2D((2, 2)))\n",
    "model2.add(layers.Normalization())\n",
    "model2.add(layers.Flatten())\n",
    "model2.add(layers.Dense(256, activation ='relu'))\n",
    "model2.add(layers.Normalization())\n",
    "model2.add(layers.Dense(10, activation = 'softmax'))\n",
    "\n",
    "model2.compile(optimizer = tf.keras.optimizers.Adagrad() ,\n",
    "              loss = 'categorical_crossentropy',\n",
    "              metrics = ['accuracy'])\n",
    "\n",
    "history2 = model2.fit(x_tr, y_tr,\n",
    "                    batch_size=256, epochs= 50,\n",
    "                    validation_data=(x_val, y_val))\n",
    "\n",
    "epochs = range(50)\n",
    "train_loss = history2.history['loss']\n",
    "valid_loss = history2.history['val_loss']\n",
    "plt.plot(epochs, train_loss, 'bo', label='Training Loss')\n",
    "plt.plot(epochs, valid_loss, 'r', label='Validation Loss')\n",
    "plt.xlabel('Epochs')\n",
    "plt.ylabel('Validation Loss')\n",
    "plt.legend()\n",
    "plt.show()"
   ]
  },
  {
   "cell_type": "code",
   "execution_count": 12,
   "metadata": {
    "colab": {
     "base_uri": "https://localhost:8080/",
     "height": 1000
    },
    "id": "SzVGt8dJvo2X",
    "outputId": "757e672a-a7cc-4f69-dd9d-73f8f19fc7ea"
   },
   "outputs": [
    {
     "name": "stdout",
     "output_type": "stream",
     "text": [
      "Epoch 1/50\n",
      "196/196 [==============================] - 2s 6ms/step - loss: 2.1054 - accuracy: 0.2024 - val_loss: 2.0490 - val_accuracy: 0.2329\n",
      "Epoch 2/50\n",
      "196/196 [==============================] - 1s 5ms/step - loss: 2.0161 - accuracy: 0.2500 - val_loss: 1.9958 - val_accuracy: 0.2675\n",
      "Epoch 3/50\n",
      "196/196 [==============================] - 1s 5ms/step - loss: 1.9743 - accuracy: 0.2722 - val_loss: 1.9691 - val_accuracy: 0.2827\n",
      "Epoch 4/50\n",
      "196/196 [==============================] - 1s 5ms/step - loss: 1.9311 - accuracy: 0.2930 - val_loss: 1.9058 - val_accuracy: 0.3057\n",
      "Epoch 5/50\n",
      "196/196 [==============================] - 1s 5ms/step - loss: 1.8767 - accuracy: 0.3174 - val_loss: 1.8459 - val_accuracy: 0.3343\n",
      "Epoch 6/50\n",
      "196/196 [==============================] - 1s 5ms/step - loss: 1.8209 - accuracy: 0.3402 - val_loss: 1.8021 - val_accuracy: 0.3517\n",
      "Epoch 7/50\n",
      "196/196 [==============================] - 1s 5ms/step - loss: 1.7708 - accuracy: 0.3623 - val_loss: 1.7412 - val_accuracy: 0.3721\n",
      "Epoch 8/50\n",
      "196/196 [==============================] - 1s 5ms/step - loss: 1.7292 - accuracy: 0.3754 - val_loss: 1.7216 - val_accuracy: 0.3746\n",
      "Epoch 9/50\n",
      "196/196 [==============================] - 1s 5ms/step - loss: 1.6913 - accuracy: 0.3910 - val_loss: 1.6806 - val_accuracy: 0.3972\n",
      "Epoch 10/50\n",
      "196/196 [==============================] - 1s 5ms/step - loss: 1.6577 - accuracy: 0.4007 - val_loss: 1.6622 - val_accuracy: 0.4019\n",
      "Epoch 11/50\n",
      "196/196 [==============================] - 1s 5ms/step - loss: 1.6257 - accuracy: 0.4119 - val_loss: 1.6377 - val_accuracy: 0.4134\n",
      "Epoch 12/50\n",
      "196/196 [==============================] - 1s 5ms/step - loss: 1.5889 - accuracy: 0.4252 - val_loss: 1.5678 - val_accuracy: 0.4350\n",
      "Epoch 13/50\n",
      "196/196 [==============================] - 1s 5ms/step - loss: 1.5598 - accuracy: 0.4356 - val_loss: 1.5711 - val_accuracy: 0.4233\n",
      "Epoch 14/50\n",
      "196/196 [==============================] - 1s 5ms/step - loss: 1.5340 - accuracy: 0.4408 - val_loss: 1.5391 - val_accuracy: 0.4408\n",
      "Epoch 15/50\n",
      "196/196 [==============================] - 1s 5ms/step - loss: 1.5101 - accuracy: 0.4534 - val_loss: 1.5057 - val_accuracy: 0.4550\n",
      "Epoch 16/50\n",
      "196/196 [==============================] - 1s 5ms/step - loss: 1.4887 - accuracy: 0.4605 - val_loss: 1.5110 - val_accuracy: 0.4435\n",
      "Epoch 17/50\n",
      "196/196 [==============================] - 1s 5ms/step - loss: 1.4731 - accuracy: 0.4649 - val_loss: 1.4897 - val_accuracy: 0.4591\n",
      "Epoch 18/50\n",
      "196/196 [==============================] - 1s 5ms/step - loss: 1.4570 - accuracy: 0.4710 - val_loss: 1.4456 - val_accuracy: 0.4740\n",
      "Epoch 19/50\n",
      "196/196 [==============================] - 1s 5ms/step - loss: 1.4443 - accuracy: 0.4779 - val_loss: 1.4456 - val_accuracy: 0.4808\n",
      "Epoch 20/50\n",
      "196/196 [==============================] - 1s 5ms/step - loss: 1.4312 - accuracy: 0.4841 - val_loss: 1.4401 - val_accuracy: 0.4797\n",
      "Epoch 21/50\n",
      "196/196 [==============================] - 1s 5ms/step - loss: 1.4187 - accuracy: 0.4872 - val_loss: 1.4420 - val_accuracy: 0.4810\n",
      "Epoch 22/50\n",
      "196/196 [==============================] - 1s 5ms/step - loss: 1.4037 - accuracy: 0.4950 - val_loss: 1.4159 - val_accuracy: 0.4927\n",
      "Epoch 23/50\n",
      "196/196 [==============================] - 1s 5ms/step - loss: 1.3917 - accuracy: 0.4998 - val_loss: 1.3922 - val_accuracy: 0.4998\n",
      "Epoch 24/50\n",
      "196/196 [==============================] - 1s 5ms/step - loss: 1.3806 - accuracy: 0.5050 - val_loss: 1.4111 - val_accuracy: 0.4946\n",
      "Epoch 25/50\n",
      "196/196 [==============================] - 1s 5ms/step - loss: 1.3719 - accuracy: 0.5079 - val_loss: 1.4390 - val_accuracy: 0.4786\n",
      "Epoch 26/50\n",
      "196/196 [==============================] - 1s 5ms/step - loss: 1.3605 - accuracy: 0.5123 - val_loss: 1.3625 - val_accuracy: 0.5114\n",
      "Epoch 27/50\n",
      "196/196 [==============================] - 1s 5ms/step - loss: 1.3472 - accuracy: 0.5172 - val_loss: 1.3501 - val_accuracy: 0.5169\n",
      "Epoch 28/50\n",
      "196/196 [==============================] - 1s 5ms/step - loss: 1.3391 - accuracy: 0.5205 - val_loss: 1.3702 - val_accuracy: 0.5080\n",
      "Epoch 29/50\n",
      "196/196 [==============================] - 1s 5ms/step - loss: 1.3308 - accuracy: 0.5248 - val_loss: 1.3551 - val_accuracy: 0.5193\n",
      "Epoch 30/50\n",
      "196/196 [==============================] - 1s 5ms/step - loss: 1.3205 - accuracy: 0.5283 - val_loss: 1.3484 - val_accuracy: 0.5120\n",
      "Epoch 31/50\n",
      "196/196 [==============================] - 1s 5ms/step - loss: 1.3135 - accuracy: 0.5325 - val_loss: 1.3454 - val_accuracy: 0.5155\n",
      "Epoch 32/50\n",
      "196/196 [==============================] - 1s 5ms/step - loss: 1.3043 - accuracy: 0.5351 - val_loss: 1.3218 - val_accuracy: 0.5249\n",
      "Epoch 33/50\n",
      "196/196 [==============================] - 1s 5ms/step - loss: 1.2960 - accuracy: 0.5372 - val_loss: 1.3069 - val_accuracy: 0.5313\n",
      "Epoch 34/50\n",
      "196/196 [==============================] - 1s 5ms/step - loss: 1.2881 - accuracy: 0.5425 - val_loss: 1.3130 - val_accuracy: 0.5363\n",
      "Epoch 35/50\n",
      "196/196 [==============================] - 1s 5ms/step - loss: 1.2808 - accuracy: 0.5458 - val_loss: 1.2835 - val_accuracy: 0.5424\n",
      "Epoch 36/50\n",
      "196/196 [==============================] - 1s 5ms/step - loss: 1.2728 - accuracy: 0.5488 - val_loss: 1.3054 - val_accuracy: 0.5304\n",
      "Epoch 37/50\n",
      "196/196 [==============================] - 1s 5ms/step - loss: 1.2653 - accuracy: 0.5510 - val_loss: 1.2758 - val_accuracy: 0.5489\n",
      "Epoch 38/50\n",
      "196/196 [==============================] - 1s 5ms/step - loss: 1.2584 - accuracy: 0.5552 - val_loss: 1.3054 - val_accuracy: 0.5331\n",
      "Epoch 39/50\n",
      "196/196 [==============================] - 1s 5ms/step - loss: 1.2505 - accuracy: 0.5571 - val_loss: 1.3381 - val_accuracy: 0.5164\n",
      "Epoch 40/50\n",
      "196/196 [==============================] - 1s 5ms/step - loss: 1.2453 - accuracy: 0.5595 - val_loss: 1.2556 - val_accuracy: 0.5538\n",
      "Epoch 41/50\n",
      "196/196 [==============================] - 1s 5ms/step - loss: 1.2374 - accuracy: 0.5616 - val_loss: 1.2540 - val_accuracy: 0.5571\n",
      "Epoch 42/50\n",
      "196/196 [==============================] - 1s 5ms/step - loss: 1.2296 - accuracy: 0.5661 - val_loss: 1.2728 - val_accuracy: 0.5473\n",
      "Epoch 43/50\n",
      "196/196 [==============================] - 1s 5ms/step - loss: 1.2247 - accuracy: 0.5672 - val_loss: 1.2536 - val_accuracy: 0.5556\n",
      "Epoch 44/50\n",
      "196/196 [==============================] - 1s 5ms/step - loss: 1.2189 - accuracy: 0.5694 - val_loss: 1.2394 - val_accuracy: 0.5640\n",
      "Epoch 45/50\n",
      "196/196 [==============================] - 1s 5ms/step - loss: 1.2129 - accuracy: 0.5720 - val_loss: 1.2329 - val_accuracy: 0.5626\n",
      "Epoch 46/50\n",
      "196/196 [==============================] - 1s 5ms/step - loss: 1.2048 - accuracy: 0.5752 - val_loss: 1.2486 - val_accuracy: 0.5641\n",
      "Epoch 47/50\n",
      "196/196 [==============================] - 1s 5ms/step - loss: 1.1998 - accuracy: 0.5768 - val_loss: 1.2348 - val_accuracy: 0.5668\n",
      "Epoch 48/50\n",
      "196/196 [==============================] - 1s 5ms/step - loss: 1.1950 - accuracy: 0.5794 - val_loss: 1.2387 - val_accuracy: 0.5582\n",
      "Epoch 49/50\n",
      "196/196 [==============================] - 1s 5ms/step - loss: 1.1892 - accuracy: 0.5817 - val_loss: 1.2316 - val_accuracy: 0.5634\n",
      "Epoch 50/50\n",
      "196/196 [==============================] - 1s 5ms/step - loss: 1.1841 - accuracy: 0.5837 - val_loss: 1.2552 - val_accuracy: 0.5590\n"
     ]
    },
    {
     "data": {
      "image/png": "[encoded data removed]",
      "text/plain": [
       "<Figure size 432x288 with 1 Axes>"
      ]
     },
     "metadata": {
      "needs_background": "light"
     },
     "output_type": "display_data"
    }
   ],
   "source": [
    "model2.compile(optimizer = tf.keras.optimizers.Adagrad(),\n",
    "              loss = 'categorical_crossentropy',\n",
    "              metrics = ['accuracy'])\n",
    "\n",
    "history2 = model2.fit(x_train, y_train_vec,\n",
    "                    batch_size=256, epochs= 50,\n",
    "                    validation_data=(x_test, y_test_vec))\n",
    "\n",
    "epochs = range(50)\n",
    "train_loss = history2.history['loss']\n",
    "valid_loss = history2.history['val_loss']\n",
    "plt.plot(epochs, train_loss, 'bo', label='Training Loss')\n",
    "plt.plot(epochs, valid_loss, 'r', label='Validation Loss')\n",
    "plt.xlabel('Epochs')\n",
    "plt.ylabel('Validation Loss')\n",
    "plt.legend()\n",
    "plt.show()"
   ]
  },
  {
   "cell_type": "code",
   "execution_count": 19,
   "metadata": {
    "colab": {
     "base_uri": "https://localhost:8080/"
    },
    "id": "zQ8sgGZcv4YT",
    "outputId": "cf66cdef-f06f-4a79-cfcd-80d36d8cb15f"
   },
   "outputs": [
    {
     "name": "stdout",
     "output_type": "stream",
     "text": [
      "313/313 [==============================] - 1s 2ms/step - loss: 1.2841 - accuracy: 0.5408\n",
      "loss = 1.284069538116455\n",
      "accuracy = 0.5407999753952026\n"
     ]
    }
   ],
   "source": [
    "m3 = model2.evaluate(x_test, y_test_vec)\n",
    "print('loss = ' + str(m3[0]))\n",
    "print('accuracy = ' + str(m3[1]))"
   ]
  },
  {
   "cell_type": "markdown",
   "metadata": {
    "id": "Moah1eEvmenk"
   },
   "source": [
    "###Model 3"
   ]
  },
  {
   "cell_type": "code",
   "execution_count": 28,
   "metadata": {
    "colab": {
     "base_uri": "https://localhost:8080/",
     "height": 450
    },
    "id": "Gff39kZwmxmN",
    "outputId": "c4897d57-3822-42b1-e639-6811876f93c9"
   },
   "outputs": [
    {
     "name": "stdout",
     "output_type": "stream",
     "text": [
      "Epoch 1/75\n",
      "157/157 [==============================] - 2s 7ms/step - loss: 5.2642 - accuracy: 0.2101 - val_loss: 2.0531 - val_accuracy: 0.2363\n",
      "Epoch 2/75\n",
      "157/157 [==============================] - 1s 5ms/step - loss: 1.8552 - accuracy: 0.3360 - val_loss: 1.9191 - val_accuracy: 0.3132\n",
      "Epoch 3/75\n",
      "157/157 [==============================] - 1s 5ms/step - loss: 1.7355 - accuracy: 0.3819 - val_loss: 1.8396 - val_accuracy: 0.3370\n",
      "Epoch 4/75\n",
      "157/157 [==============================] - 1s 5ms/step - loss: 1.6529 - accuracy: 0.4101 - val_loss: 1.7971 - val_accuracy: 0.3522\n",
      "Epoch 5/75\n",
      "157/157 [==============================] - 1s 5ms/step - loss: 1.5923 - accuracy: 0.4323 - val_loss: 1.6091 - val_accuracy: 0.4181\n",
      "Epoch 6/75\n",
      "157/157 [==============================] - 1s 5ms/step - loss: 1.5501 - accuracy: 0.4482 - val_loss: 1.7240 - val_accuracy: 0.3985\n",
      "Epoch 7/75\n",
      "157/157 [==============================] - 1s 5ms/step - loss: 1.5142 - accuracy: 0.4631 - val_loss: 1.5961 - val_accuracy: 0.4318\n",
      "Epoch 8/75\n",
      "157/157 [==============================] - 1s 5ms/step - loss: 1.4793 - accuracy: 0.4751 - val_loss: 1.5372 - val_accuracy: 0.4495\n",
      "Epoch 9/75\n",
      "157/157 [==============================] - 1s 5ms/step - loss: 1.4611 - accuracy: 0.4822 - val_loss: 1.6110 - val_accuracy: 0.4364\n",
      "Epoch 10/75\n",
      "157/157 [==============================] - 1s 5ms/step - loss: 1.4382 - accuracy: 0.4884 - val_loss: 1.5311 - val_accuracy: 0.4595\n",
      "Epoch 11/75\n",
      "157/157 [==============================] - 1s 5ms/step - loss: 1.4149 - accuracy: 0.4965 - val_loss: 1.5634 - val_accuracy: 0.4437\n",
      "Epoch 12/75\n",
      "157/157 [==============================] - 1s 5ms/step - loss: 1.3985 - accuracy: 0.5022 - val_loss: 1.4870 - val_accuracy: 0.4612\n",
      "Epoch 13/75\n",
      "157/157 [==============================] - 1s 5ms/step - loss: 1.3830 - accuracy: 0.5116 - val_loss: 1.4929 - val_accuracy: 0.4702\n",
      "Epoch 14/75\n",
      "157/157 [==============================] - 1s 5ms/step - loss: 1.3660 - accuracy: 0.5159 - val_loss: 1.4499 - val_accuracy: 0.4845\n",
      "Epoch 15/75\n",
      "157/157 [==============================] - 1s 5ms/step - loss: 1.3485 - accuracy: 0.5234 - val_loss: 1.4482 - val_accuracy: 0.4865\n",
      "Epoch 16/75\n",
      "157/157 [==============================] - 1s 5ms/step - loss: 1.3367 - accuracy: 0.5292 - val_loss: 1.4710 - val_accuracy: 0.4664\n",
      "Epoch 17/75\n",
      "157/157 [==============================] - 1s 5ms/step - loss: 1.3215 - accuracy: 0.5331 - val_loss: 1.4041 - val_accuracy: 0.4930\n",
      "Epoch 18/75\n",
      "157/157 [==============================] - 1s 5ms/step - loss: 1.3092 - accuracy: 0.5396 - val_loss: 1.4114 - val_accuracy: 0.4951\n",
      "Epoch 19/75\n",
      "157/157 [==============================] - 1s 5ms/step - loss: 1.2983 - accuracy: 0.5429 - val_loss: 1.4114 - val_accuracy: 0.4956\n",
      "Epoch 20/75\n",
      "157/157 [==============================] - 1s 5ms/step - loss: 1.2817 - accuracy: 0.5489 - val_loss: 1.4241 - val_accuracy: 0.4933\n",
      "Epoch 21/75\n",
      "157/157 [==============================] - 1s 5ms/step - loss: 1.2747 - accuracy: 0.5520 - val_loss: 1.4296 - val_accuracy: 0.4853\n",
      "Epoch 22/75\n",
      "157/157 [==============================] - 1s 5ms/step - loss: 1.2611 - accuracy: 0.5567 - val_loss: 1.3427 - val_accuracy: 0.5255\n",
      "Epoch 23/75\n",
      "157/157 [==============================] - 1s 5ms/step - loss: 1.2480 - accuracy: 0.5606 - val_loss: 1.4532 - val_accuracy: 0.4790\n",
      "Epoch 24/75\n",
      "157/157 [==============================] - 1s 5ms/step - loss: 1.2392 - accuracy: 0.5663 - val_loss: 1.3518 - val_accuracy: 0.5267\n",
      "Epoch 25/75\n",
      "157/157 [==============================] - 1s 5ms/step - loss: 1.2287 - accuracy: 0.5707 - val_loss: 1.3376 - val_accuracy: 0.5225\n",
      "Epoch 26/75\n",
      "157/157 [==============================] - 1s 5ms/step - loss: 1.2160 - accuracy: 0.5731 - val_loss: 1.4223 - val_accuracy: 0.4923\n",
      "Epoch 27/75\n",
      "157/157 [==============================] - 1s 5ms/step - loss: 1.2079 - accuracy: 0.5784 - val_loss: 1.3742 - val_accuracy: 0.5115\n",
      "Epoch 28/75\n",
      "157/157 [==============================] - 1s 5ms/step - loss: 1.1963 - accuracy: 0.5807 - val_loss: 1.3139 - val_accuracy: 0.5388\n",
      "Epoch 29/75\n",
      "157/157 [==============================] - 1s 5ms/step - loss: 1.1865 - accuracy: 0.5877 - val_loss: 1.4617 - val_accuracy: 0.4828\n",
      "Epoch 30/75\n",
      "157/157 [==============================] - 1s 5ms/step - loss: 1.1754 - accuracy: 0.5882 - val_loss: 1.3134 - val_accuracy: 0.5341\n",
      "Epoch 31/75\n",
      "157/157 [==============================] - 1s 5ms/step - loss: 1.1641 - accuracy: 0.5944 - val_loss: 1.3016 - val_accuracy: 0.5450\n",
      "Epoch 32/75\n",
      "157/157 [==============================] - 1s 5ms/step - loss: 1.1581 - accuracy: 0.5963 - val_loss: 1.3455 - val_accuracy: 0.5321\n",
      "Epoch 33/75\n",
      "157/157 [==============================] - 1s 5ms/step - loss: 1.1495 - accuracy: 0.6000 - val_loss: 1.3659 - val_accuracy: 0.5162\n",
      "Epoch 34/75\n",
      "157/157 [==============================] - 1s 5ms/step - loss: 1.1404 - accuracy: 0.6018 - val_loss: 1.2618 - val_accuracy: 0.5613\n",
      "Epoch 35/75\n",
      "157/157 [==============================] - 1s 5ms/step - loss: 1.1360 - accuracy: 0.6061 - val_loss: 1.3298 - val_accuracy: 0.5360\n",
      "Epoch 36/75\n",
      "157/157 [==============================] - 1s 5ms/step - loss: 1.1269 - accuracy: 0.6083 - val_loss: 1.2682 - val_accuracy: 0.5546\n",
      "Epoch 37/75\n",
      "157/157 [==============================] - 1s 5ms/step - loss: 1.1145 - accuracy: 0.6127 - val_loss: 1.2810 - val_accuracy: 0.5485\n",
      "Epoch 38/75\n",
      "157/157 [==============================] - 1s 5ms/step - loss: 1.1128 - accuracy: 0.6145 - val_loss: 1.2801 - val_accuracy: 0.5548\n",
      "Epoch 39/75\n",
      "157/157 [==============================] - 1s 5ms/step - loss: 1.1057 - accuracy: 0.6179 - val_loss: 1.2637 - val_accuracy: 0.5582\n",
      "Epoch 40/75\n",
      "157/157 [==============================] - 1s 5ms/step - loss: 1.0985 - accuracy: 0.6188 - val_loss: 1.3285 - val_accuracy: 0.5323\n",
      "Epoch 41/75\n",
      "157/157 [==============================] - 1s 5ms/step - loss: 1.0904 - accuracy: 0.6240 - val_loss: 1.3146 - val_accuracy: 0.5407\n",
      "Epoch 42/75\n",
      "157/157 [==============================] - 1s 5ms/step - loss: 1.0823 - accuracy: 0.6251 - val_loss: 1.2303 - val_accuracy: 0.5717\n",
      "Epoch 43/75\n",
      "157/157 [==============================] - 1s 5ms/step - loss: 1.0780 - accuracy: 0.6263 - val_loss: 1.2653 - val_accuracy: 0.5596\n",
      "Epoch 44/75\n",
      "157/157 [==============================] - 1s 5ms/step - loss: 1.0700 - accuracy: 0.6309 - val_loss: 1.2601 - val_accuracy: 0.5603\n",
      "Epoch 45/75\n",
      "157/157 [==============================] - 1s 6ms/step - loss: 1.0638 - accuracy: 0.6326 - val_loss: 1.2196 - val_accuracy: 0.5752\n",
      "Epoch 46/75\n",
      "157/157 [==============================] - 1s 5ms/step - loss: 1.0586 - accuracy: 0.6330 - val_loss: 1.3166 - val_accuracy: 0.5371\n",
      "Epoch 47/75\n",
      "157/157 [==============================] - 1s 5ms/step - loss: 1.0548 - accuracy: 0.6374 - val_loss: 1.1803 - val_accuracy: 0.5879\n",
      "Epoch 48/75\n",
      "157/157 [==============================] - 1s 5ms/step - loss: 1.0470 - accuracy: 0.6374 - val_loss: 1.2380 - val_accuracy: 0.5716\n",
      "Epoch 49/75\n",
      "157/157 [==============================] - 1s 5ms/step - loss: 1.0448 - accuracy: 0.6360 - val_loss: 1.2203 - val_accuracy: 0.5777\n",
      "Epoch 50/75\n",
      "157/157 [==============================] - 1s 5ms/step - loss: 1.0363 - accuracy: 0.6406 - val_loss: 1.2251 - val_accuracy: 0.5744\n",
      "Epoch 51/75\n",
      "157/157 [==============================] - 1s 5ms/step - loss: 1.0264 - accuracy: 0.6463 - val_loss: 1.2248 - val_accuracy: 0.5746\n",
      "Epoch 52/75\n",
      "157/157 [==============================] - 1s 5ms/step - loss: 1.0297 - accuracy: 0.6455 - val_loss: 1.2071 - val_accuracy: 0.5811\n",
      "Epoch 53/75\n",
      "157/157 [==============================] - 1s 5ms/step - loss: 1.0232 - accuracy: 0.6489 - val_loss: 1.2218 - val_accuracy: 0.5772\n",
      "Epoch 54/75\n",
      "157/157 [==============================] - 1s 5ms/step - loss: 1.0169 - accuracy: 0.6479 - val_loss: 1.2887 - val_accuracy: 0.5590\n",
      "Epoch 55/75\n",
      "157/157 [==============================] - 1s 5ms/step - loss: 1.0140 - accuracy: 0.6496 - val_loss: 1.2387 - val_accuracy: 0.5720\n",
      "Epoch 56/75\n",
      "157/157 [==============================] - 1s 5ms/step - loss: 1.0092 - accuracy: 0.6539 - val_loss: 1.1860 - val_accuracy: 0.5916\n",
      "Epoch 57/75\n",
      "157/157 [==============================] - 1s 5ms/step - loss: 1.0053 - accuracy: 0.6539 - val_loss: 1.1847 - val_accuracy: 0.5875\n",
      "Epoch 58/75\n",
      "157/157 [==============================] - 1s 5ms/step - loss: 1.0017 - accuracy: 0.6554 - val_loss: 1.2222 - val_accuracy: 0.5838\n",
      "Epoch 59/75\n",
      "157/157 [==============================] - 1s 5ms/step - loss: 0.9960 - accuracy: 0.6571 - val_loss: 1.2626 - val_accuracy: 0.5630\n",
      "Epoch 60/75\n",
      "157/157 [==============================] - 1s 5ms/step - loss: 0.9888 - accuracy: 0.6594 - val_loss: 1.2023 - val_accuracy: 0.5847\n",
      "Epoch 61/75\n",
      "157/157 [==============================] - 1s 5ms/step - loss: 0.9858 - accuracy: 0.6595 - val_loss: 1.2026 - val_accuracy: 0.5862\n",
      "Epoch 62/75\n",
      "157/157 [==============================] - 1s 5ms/step - loss: 0.9823 - accuracy: 0.6604 - val_loss: 1.2318 - val_accuracy: 0.5731\n",
      "Epoch 63/75\n",
      "157/157 [==============================] - 1s 5ms/step - loss: 0.9804 - accuracy: 0.6619 - val_loss: 1.1771 - val_accuracy: 0.5925\n",
      "Epoch 64/75\n",
      "157/157 [==============================] - 1s 6ms/step - loss: 0.9753 - accuracy: 0.6655 - val_loss: 1.2327 - val_accuracy: 0.5736\n",
      "Epoch 65/75\n",
      "157/157 [==============================] - 1s 6ms/step - loss: 0.9715 - accuracy: 0.6659 - val_loss: 1.1819 - val_accuracy: 0.5895\n",
      "Epoch 66/75\n",
      "157/157 [==============================] - 1s 5ms/step - loss: 0.9692 - accuracy: 0.6664 - val_loss: 1.1941 - val_accuracy: 0.5878\n",
      "Epoch 67/75\n",
      "157/157 [==============================] - 1s 5ms/step - loss: 0.9652 - accuracy: 0.6666 - val_loss: 1.2057 - val_accuracy: 0.5823\n",
      "Epoch 68/75\n",
      "157/157 [==============================] - 1s 5ms/step - loss: 0.9626 - accuracy: 0.6672 - val_loss: 1.1593 - val_accuracy: 0.5998\n",
      "Epoch 69/75\n",
      "157/157 [==============================] - 1s 5ms/step - loss: 0.9547 - accuracy: 0.6716 - val_loss: 1.2060 - val_accuracy: 0.5823\n",
      "Epoch 70/75\n",
      "157/157 [==============================] - 1s 5ms/step - loss: 0.9558 - accuracy: 0.6713 - val_loss: 1.2196 - val_accuracy: 0.5817\n",
      "Epoch 71/75\n",
      "157/157 [==============================] - 1s 5ms/step - loss: 0.9486 - accuracy: 0.6707 - val_loss: 1.1273 - val_accuracy: 0.6114\n",
      "Epoch 72/75\n",
      "157/157 [==============================] - 1s 5ms/step - loss: 0.9450 - accuracy: 0.6757 - val_loss: 1.1623 - val_accuracy: 0.5959\n",
      "Epoch 73/75\n",
      "157/157 [==============================] - 1s 5ms/step - loss: 0.9407 - accuracy: 0.6781 - val_loss: 1.1794 - val_accuracy: 0.5919\n",
      "Epoch 74/75\n",
      "157/157 [==============================] - 1s 5ms/step - loss: 0.9398 - accuracy: 0.6761 - val_loss: 1.1516 - val_accuracy: 0.6043\n",
      "Epoch 75/75\n",
      "157/157 [==============================] - 1s 5ms/step - loss: 0.9318 - accuracy: 0.6802 - val_loss: 1.2108 - val_accuracy: 0.5831\n"
     ]
    },
    {
     "data": {
      "image/png": "[encoded data removed]",
      "text/plain": [
       "<Figure size 432x288 with 1 Axes>"
      ]
     },
     "metadata": {
      "needs_background": "light"
     },
     "output_type": "display_data"
    }
   ],
   "source": [
    "model3 = models.Sequential()\n",
    "model3.add(layers.Conv2D(32, (3, 3), activation = 'relu', padding = 'valid', input_shape=(32, 32, 3)))\n",
    "model3.add(layers.MaxPool2D((2, 2)))\n",
    "model3.add(layers.Dropout(0.1))\n",
    "model3.add(layers.Conv2D(64, (4, 4), activation = 'relu', padding = 'valid'))\n",
    "model3.add(layers.MaxPool2D((2, 2)))\n",
    "model3.add(layers.Flatten())\n",
    "model3.add(layers.Dense(256, activation ='relu'))\n",
    "model3.add(layers.Dense(10, activation = 'softmax'))\n",
    "\n",
    "model3.compile(optimizer = tf.keras.optimizers.Ftrl() ,\n",
    "              loss = 'categorical_crossentropy',\n",
    "              metrics = ['accuracy'])\n",
    "\n",
    "history3 = model3.fit(x_tr, y_tr,\n",
    "                    batch_size=256, epochs= 75,\n",
    "                    validation_data=(x_val, y_val))\n",
    "\n",
    "epochs = range(75)\n",
    "train_loss = history3.history['loss']\n",
    "valid_loss = history3.history['val_loss']\n",
    "plt.plot(epochs, train_loss, 'bo', label='Training Loss')\n",
    "plt.plot(epochs, valid_loss, 'r', label='Validation Loss')\n",
    "plt.xlabel('Epochs')\n",
    "plt.ylabel('Validation Loss')\n",
    "plt.legend()\n",
    "plt.show()"
   ]
  },
  {
   "cell_type": "code",
   "execution_count": 29,
   "metadata": {},
   "outputs": [
    {
     "name": "stdout",
     "output_type": "stream",
     "text": [
      "Epoch 1/75\n",
      "196/196 [==============================] - 2s 7ms/step - loss: 2.2953 - accuracy: 0.1030 - val_loss: 2.3025 - val_accuracy: 0.1000\n",
      "Epoch 2/75\n",
      "196/196 [==============================] - 1s 5ms/step - loss: 2.3024 - accuracy: 0.1000 - val_loss: 2.3023 - val_accuracy: 0.1000\n",
      "Epoch 3/75\n",
      "196/196 [==============================] - 1s 5ms/step - loss: 2.3021 - accuracy: 0.1000 - val_loss: 2.3017 - val_accuracy: 0.1000\n",
      "Epoch 4/75\n",
      "196/196 [==============================] - 1s 5ms/step - loss: 2.3005 - accuracy: 0.1000 - val_loss: 2.2980 - val_accuracy: 0.1000\n",
      "Epoch 5/75\n",
      "196/196 [==============================] - 1s 5ms/step - loss: 2.2897 - accuracy: 0.1009 - val_loss: 2.2751 - val_accuracy: 0.1068\n",
      "Epoch 6/75\n",
      "196/196 [==============================] - 1s 5ms/step - loss: 2.2313 - accuracy: 0.1283 - val_loss: 2.1891 - val_accuracy: 0.1662\n",
      "Epoch 7/75\n",
      "196/196 [==============================] - 1s 5ms/step - loss: 2.1179 - accuracy: 0.2007 - val_loss: 2.0562 - val_accuracy: 0.2297\n",
      "Epoch 8/75\n",
      "196/196 [==============================] - 1s 5ms/step - loss: 2.0418 - accuracy: 0.2448 - val_loss: 2.0172 - val_accuracy: 0.2562\n",
      "Epoch 9/75\n",
      "196/196 [==============================] - 1s 5ms/step - loss: 2.0141 - accuracy: 0.2579 - val_loss: 2.0078 - val_accuracy: 0.2640\n",
      "Epoch 10/75\n",
      "196/196 [==============================] - 1s 5ms/step - loss: 1.9964 - accuracy: 0.2679 - val_loss: 1.9851 - val_accuracy: 0.2722\n",
      "Epoch 11/75\n",
      "196/196 [==============================] - 1s 5ms/step - loss: 1.9802 - accuracy: 0.2740 - val_loss: 1.9990 - val_accuracy: 0.2720\n",
      "Epoch 12/75\n",
      "196/196 [==============================] - 1s 5ms/step - loss: 1.9616 - accuracy: 0.2814 - val_loss: 1.9451 - val_accuracy: 0.2933\n",
      "Epoch 13/75\n",
      "196/196 [==============================] - 1s 5ms/step - loss: 1.9385 - accuracy: 0.2939 - val_loss: 1.9186 - val_accuracy: 0.3013\n",
      "Epoch 14/75\n",
      "196/196 [==============================] - 1s 5ms/step - loss: 1.9110 - accuracy: 0.3089 - val_loss: 1.9068 - val_accuracy: 0.3063\n",
      "Epoch 15/75\n",
      "196/196 [==============================] - 1s 5ms/step - loss: 1.8763 - accuracy: 0.3232 - val_loss: 1.8790 - val_accuracy: 0.3175\n",
      "Epoch 16/75\n",
      "196/196 [==============================] - 1s 5ms/step - loss: 1.8349 - accuracy: 0.3385 - val_loss: 1.8693 - val_accuracy: 0.3467\n",
      "Epoch 17/75\n",
      "196/196 [==============================] - 1s 5ms/step - loss: 1.7891 - accuracy: 0.3580 - val_loss: 1.7538 - val_accuracy: 0.3724\n",
      "Epoch 18/75\n",
      "196/196 [==============================] - 1s 5ms/step - loss: 1.7362 - accuracy: 0.3792 - val_loss: 1.7541 - val_accuracy: 0.3692\n",
      "Epoch 19/75\n",
      "196/196 [==============================] - 1s 5ms/step - loss: 1.6925 - accuracy: 0.3958 - val_loss: 1.6595 - val_accuracy: 0.4035\n",
      "Epoch 20/75\n",
      "196/196 [==============================] - 1s 5ms/step - loss: 1.6507 - accuracy: 0.4081 - val_loss: 1.6420 - val_accuracy: 0.4115\n",
      "Epoch 21/75\n",
      "196/196 [==============================] - 1s 5ms/step - loss: 1.6183 - accuracy: 0.4221 - val_loss: 1.7328 - val_accuracy: 0.3871\n",
      "Epoch 22/75\n",
      "196/196 [==============================] - 1s 5ms/step - loss: 1.5943 - accuracy: 0.4283 - val_loss: 1.5683 - val_accuracy: 0.4361\n",
      "Epoch 23/75\n",
      "196/196 [==============================] - 1s 5ms/step - loss: 1.5716 - accuracy: 0.4369 - val_loss: 1.5703 - val_accuracy: 0.4322\n",
      "Epoch 24/75\n",
      "196/196 [==============================] - 1s 5ms/step - loss: 1.5536 - accuracy: 0.4431 - val_loss: 1.5639 - val_accuracy: 0.4418\n",
      "Epoch 25/75\n",
      "196/196 [==============================] - 1s 5ms/step - loss: 1.5394 - accuracy: 0.4496 - val_loss: 1.5230 - val_accuracy: 0.4515\n",
      "Epoch 26/75\n",
      "196/196 [==============================] - 1s 5ms/step - loss: 1.5251 - accuracy: 0.4547 - val_loss: 1.5166 - val_accuracy: 0.4611\n",
      "Epoch 27/75\n",
      "196/196 [==============================] - 1s 5ms/step - loss: 1.5148 - accuracy: 0.4589 - val_loss: 1.4973 - val_accuracy: 0.4629\n",
      "Epoch 28/75\n",
      "196/196 [==============================] - 1s 5ms/step - loss: 1.5032 - accuracy: 0.4655 - val_loss: 1.5305 - val_accuracy: 0.4506\n",
      "Epoch 29/75\n",
      "196/196 [==============================] - 1s 5ms/step - loss: 1.4922 - accuracy: 0.4665 - val_loss: 1.5414 - val_accuracy: 0.4499\n",
      "Epoch 30/75\n",
      "196/196 [==============================] - 1s 5ms/step - loss: 1.4838 - accuracy: 0.4726 - val_loss: 1.4863 - val_accuracy: 0.4722\n",
      "Epoch 31/75\n",
      "196/196 [==============================] - 1s 5ms/step - loss: 1.4748 - accuracy: 0.4739 - val_loss: 1.4675 - val_accuracy: 0.4797\n",
      "Epoch 32/75\n",
      "196/196 [==============================] - 1s 5ms/step - loss: 1.4639 - accuracy: 0.4778 - val_loss: 1.4699 - val_accuracy: 0.4726\n",
      "Epoch 33/75\n",
      "196/196 [==============================] - 1s 5ms/step - loss: 1.4554 - accuracy: 0.4810 - val_loss: 1.4526 - val_accuracy: 0.4810\n",
      "Epoch 34/75\n",
      "196/196 [==============================] - 1s 5ms/step - loss: 1.4468 - accuracy: 0.4846 - val_loss: 1.4440 - val_accuracy: 0.4845\n",
      "Epoch 35/75\n",
      "196/196 [==============================] - 1s 5ms/step - loss: 1.4385 - accuracy: 0.4888 - val_loss: 1.4435 - val_accuracy: 0.4849\n",
      "Epoch 36/75\n",
      "196/196 [==============================] - 1s 5ms/step - loss: 1.4326 - accuracy: 0.4899 - val_loss: 1.4421 - val_accuracy: 0.4886\n",
      "Epoch 37/75\n",
      "196/196 [==============================] - 1s 5ms/step - loss: 1.4238 - accuracy: 0.4920 - val_loss: 1.4380 - val_accuracy: 0.4864\n",
      "Epoch 38/75\n",
      "196/196 [==============================] - 1s 5ms/step - loss: 1.4176 - accuracy: 0.4958 - val_loss: 1.4391 - val_accuracy: 0.4864\n",
      "Epoch 39/75\n",
      "196/196 [==============================] - 1s 5ms/step - loss: 1.4082 - accuracy: 0.4983 - val_loss: 1.4240 - val_accuracy: 0.4911\n",
      "Epoch 40/75\n",
      "196/196 [==============================] - 1s 5ms/step - loss: 1.4020 - accuracy: 0.5018 - val_loss: 1.4345 - val_accuracy: 0.4890\n",
      "Epoch 41/75\n",
      "196/196 [==============================] - 1s 5ms/step - loss: 1.3921 - accuracy: 0.5060 - val_loss: 1.4010 - val_accuracy: 0.5022\n",
      "Epoch 42/75\n",
      "196/196 [==============================] - 1s 5ms/step - loss: 1.3863 - accuracy: 0.5069 - val_loss: 1.4062 - val_accuracy: 0.4961\n",
      "Epoch 43/75\n",
      "196/196 [==============================] - 1s 5ms/step - loss: 1.3782 - accuracy: 0.5115 - val_loss: 1.4217 - val_accuracy: 0.4961\n",
      "Epoch 44/75\n",
      "196/196 [==============================] - 1s 5ms/step - loss: 1.3726 - accuracy: 0.5126 - val_loss: 1.3684 - val_accuracy: 0.5122\n",
      "Epoch 45/75\n",
      "196/196 [==============================] - 1s 5ms/step - loss: 1.3663 - accuracy: 0.5146 - val_loss: 1.4047 - val_accuracy: 0.4945\n",
      "Epoch 46/75\n",
      "196/196 [==============================] - 1s 5ms/step - loss: 1.3578 - accuracy: 0.5181 - val_loss: 1.3709 - val_accuracy: 0.5097\n",
      "Epoch 47/75\n",
      "196/196 [==============================] - 1s 5ms/step - loss: 1.3499 - accuracy: 0.5206 - val_loss: 1.3727 - val_accuracy: 0.5104\n",
      "Epoch 48/75\n",
      "196/196 [==============================] - 1s 5ms/step - loss: 1.3452 - accuracy: 0.5226 - val_loss: 1.3981 - val_accuracy: 0.4988\n",
      "Epoch 49/75\n",
      "196/196 [==============================] - 1s 5ms/step - loss: 1.3378 - accuracy: 0.5255 - val_loss: 1.3621 - val_accuracy: 0.5158\n",
      "Epoch 50/75\n",
      "196/196 [==============================] - 1s 5ms/step - loss: 1.3336 - accuracy: 0.5284 - val_loss: 1.3425 - val_accuracy: 0.5193\n",
      "Epoch 51/75\n",
      "196/196 [==============================] - 1s 5ms/step - loss: 1.3247 - accuracy: 0.5313 - val_loss: 1.3823 - val_accuracy: 0.5018\n",
      "Epoch 52/75\n",
      "196/196 [==============================] - 1s 5ms/step - loss: 1.3210 - accuracy: 0.5326 - val_loss: 1.3304 - val_accuracy: 0.5270\n",
      "Epoch 53/75\n",
      "196/196 [==============================] - 1s 5ms/step - loss: 1.3145 - accuracy: 0.5360 - val_loss: 1.3363 - val_accuracy: 0.5213\n",
      "Epoch 54/75\n",
      "196/196 [==============================] - 1s 5ms/step - loss: 1.3088 - accuracy: 0.5370 - val_loss: 1.3200 - val_accuracy: 0.5310\n",
      "Epoch 55/75\n",
      "196/196 [==============================] - 1s 5ms/step - loss: 1.3041 - accuracy: 0.5380 - val_loss: 1.3276 - val_accuracy: 0.5298\n",
      "Epoch 56/75\n",
      "196/196 [==============================] - 1s 5ms/step - loss: 1.3002 - accuracy: 0.5400 - val_loss: 1.3228 - val_accuracy: 0.5289\n",
      "Epoch 57/75\n",
      "196/196 [==============================] - 1s 5ms/step - loss: 1.2933 - accuracy: 0.5434 - val_loss: 1.3122 - val_accuracy: 0.5360\n",
      "Epoch 58/75\n",
      "196/196 [==============================] - 1s 5ms/step - loss: 1.2872 - accuracy: 0.5430 - val_loss: 1.3272 - val_accuracy: 0.5339\n",
      "Epoch 59/75\n",
      "196/196 [==============================] - 1s 5ms/step - loss: 1.2836 - accuracy: 0.5462 - val_loss: 1.3201 - val_accuracy: 0.5303\n",
      "Epoch 60/75\n",
      "196/196 [==============================] - 1s 5ms/step - loss: 1.2771 - accuracy: 0.5508 - val_loss: 1.2935 - val_accuracy: 0.5410\n",
      "Epoch 61/75\n",
      "196/196 [==============================] - 1s 5ms/step - loss: 1.2734 - accuracy: 0.5508 - val_loss: 1.3264 - val_accuracy: 0.5371\n",
      "Epoch 62/75\n",
      "196/196 [==============================] - 1s 5ms/step - loss: 1.2689 - accuracy: 0.5534 - val_loss: 1.3071 - val_accuracy: 0.5346\n",
      "Epoch 63/75\n",
      "196/196 [==============================] - 1s 5ms/step - loss: 1.2650 - accuracy: 0.5544 - val_loss: 1.3252 - val_accuracy: 0.5357\n",
      "Epoch 64/75\n",
      "196/196 [==============================] - 1s 5ms/step - loss: 1.2602 - accuracy: 0.5557 - val_loss: 1.2924 - val_accuracy: 0.5413\n",
      "Epoch 65/75\n",
      "196/196 [==============================] - 1s 5ms/step - loss: 1.2566 - accuracy: 0.5572 - val_loss: 1.2983 - val_accuracy: 0.5451\n",
      "Epoch 66/75\n",
      "196/196 [==============================] - 1s 5ms/step - loss: 1.2507 - accuracy: 0.5596 - val_loss: 1.2731 - val_accuracy: 0.5471\n",
      "Epoch 67/75\n",
      "196/196 [==============================] - 1s 5ms/step - loss: 1.2484 - accuracy: 0.5596 - val_loss: 1.2854 - val_accuracy: 0.5482\n",
      "Epoch 68/75\n",
      "196/196 [==============================] - 1s 5ms/step - loss: 1.2413 - accuracy: 0.5646 - val_loss: 1.2895 - val_accuracy: 0.5454\n",
      "Epoch 69/75\n",
      "196/196 [==============================] - 1s 5ms/step - loss: 1.2385 - accuracy: 0.5639 - val_loss: 1.2828 - val_accuracy: 0.5465\n",
      "Epoch 70/75\n",
      "196/196 [==============================] - 1s 5ms/step - loss: 1.2336 - accuracy: 0.5686 - val_loss: 1.2862 - val_accuracy: 0.5460\n",
      "Epoch 71/75\n",
      "196/196 [==============================] - 1s 5ms/step - loss: 1.2294 - accuracy: 0.5675 - val_loss: 1.2633 - val_accuracy: 0.5535\n",
      "Epoch 72/75\n",
      "196/196 [==============================] - 1s 5ms/step - loss: 1.2271 - accuracy: 0.5673 - val_loss: 1.2570 - val_accuracy: 0.5515\n",
      "Epoch 73/75\n",
      "196/196 [==============================] - 1s 5ms/step - loss: 1.2211 - accuracy: 0.5703 - val_loss: 1.2726 - val_accuracy: 0.5514\n",
      "Epoch 74/75\n",
      "196/196 [==============================] - 1s 5ms/step - loss: 1.2192 - accuracy: 0.5717 - val_loss: 1.2728 - val_accuracy: 0.5456\n",
      "Epoch 75/75\n",
      "196/196 [==============================] - 1s 5ms/step - loss: 1.2146 - accuracy: 0.5747 - val_loss: 1.3644 - val_accuracy: 0.5202\n"
     ]
    },
    {
     "data": {
      "image/png": "[encoded data removed]",
      "text/plain": [
       "<Figure size 432x288 with 1 Axes>"
      ]
     },
     "metadata": {
      "needs_background": "light"
     },
     "output_type": "display_data"
    }
   ],
   "source": [
    "model3.compile(optimizer = tf.keras.optimizers.Ftrl() ,\n",
    "              loss = 'categorical_crossentropy',\n",
    "              metrics = ['accuracy'])\n",
    "\n",
    "history3 = model3.fit(x_train, y_train_vec,\n",
    "                    batch_size=256, epochs= 75,\n",
    "                    validation_data=(x_test, y_test_vec))\n",
    "\n",
    "epochs = range(75)\n",
    "train_loss = history3.history['loss']\n",
    "valid_loss = history3.history['val_loss']\n",
    "plt.plot(epochs, train_loss, 'bo', label='Training Loss')\n",
    "plt.plot(epochs, valid_loss, 'r', label='Validation Loss')\n",
    "plt.xlabel('Epochs')\n",
    "plt.ylabel('Validation Loss')\n",
    "plt.legend()\n",
    "plt.show()"
   ]
  }
 ],
 "metadata": {
  "accelerator": "TPU",
  "colab": {
   "name": "Assignment2.ipynb",
   "provenance": []
  },
  "kernelspec": {
   "display_name": "Python 3 (ipykernel)",
   "language": "python",
   "name": "python3"
  },
  "language_info": {
   "codemirror_mode": {
    "name": "ipython",
    "version": 3
   },
   "file_extension": ".py",
   "mimetype": "text/x-python",
   "name": "python",
   "nbconvert_exporter": "python",
   "pygments_lexer": "ipython3",
   "version": "3.9.7"
  }
 },
 "nbformat": 4,
 "nbformat_minor": 1
}
