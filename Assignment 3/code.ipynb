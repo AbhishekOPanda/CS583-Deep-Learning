{
 "cells": [
  {
   "cell_type": "markdown",
   "metadata": {},
   "source": [
    "# Assignment 3: Build a seq2seq model for machine translation.\n",
    "\n",
    "### Name: [Abhishek Panda]\n",
    "\n",
    "### Task: Change LSTM model to Bidirectional LSTM Model， translate English to target language and evaluate using Bleu score.\n",
    "\n",
    "### Due Date: Tuesday, April 19th, 11:59PM"
   ]
  },
  {
   "cell_type": "markdown",
   "metadata": {},
   "source": [
    "## 0. You will do the following:\n",
    "\n",
    "1. Read and run the code. Please make sure you have installed keras or tensorflow.Running the script on colab will speed up the training process and also prevent package loading issue. \n",
    "2. Complete the code in Section 1.1, you may fill in your data directory.\n",
    "3. Directly modify the code in Section 3. Change the current LSTM layer to a Bidirectional LSTM Model.\n",
    "4. Training your model and translate English to Spanish in Section 4.2. You could try translating other languages.\n",
    "5. Complete the code in Section 5."
   ]
  },
  {
   "cell_type": "markdown",
   "metadata": {},
   "source": [
    "### Hint: \n",
    "\n",
    "To implement ```Bi-LSTM```, you will need the following code to build the encoder. Do NOT use Bi-LSTM for the decoder. But there are other codes you need to modify to make it work."
   ]
  },
  {
   "cell_type": "code",
   "execution_count": 1,
   "metadata": {},
   "outputs": [],
   "source": [
    "# from keras.layers import Bidirectional, Concatenate, LSTM\n",
    "\n",
    "# encoder_bilstm = Bidirectional(LSTM(4, return_state=True, \n",
    "#                                   dropout=0.5, name='encoder_lstm'))\n",
    "# _, forward_h, forward_c, backward_h, backward_c = encoder_bilstm(encoder_inputs)\n",
    "\n",
    "# state_h = Concatenate()([forward_h, backward_h])\n",
    "# state_c = Concatenate()([forward_c, backward_c])"
   ]
  },
  {
   "cell_type": "markdown",
   "metadata": {},
   "source": [
    "## 1. Data preparation (10 points)\n",
    "\n",
    "1. Download spanish-english data from http://www.manythings.org/anki/\n",
    "2. You may try to use other languages.\n",
    "3. Unzip the .ZIP file.\n",
    "4. Put the .TXT file (e.g., \"deu.txt\") in the directory \"./Data/\".\n",
    "5. Fill in your data directory in section 1.1."
   ]
  },
  {
   "cell_type": "markdown",
   "metadata": {},
   "source": [
    "### 1.1. Load and clean text\n"
   ]
  },
  {
   "cell_type": "code",
   "execution_count": 2,
   "metadata": {},
   "outputs": [],
   "source": [
    "import re\n",
    "import string\n",
    "from unicodedata import normalize\n",
    "import numpy\n",
    "import os \n",
    "\n",
    "# load doc into memory\n",
    "def load_doc(filename):\n",
    "    # open the file as read only\n",
    "    file = open(filename, mode='rt', encoding='utf-8')\n",
    "    # read all text\n",
    "    text = file.read()\n",
    "    # close the file\n",
    "    file.close()\n",
    "    return text\n",
    "\n",
    "\n",
    "# split a loaded document into sentences\n",
    "def to_pairs(doc):\n",
    "    lines = doc.strip().split('\\n')\n",
    "    pairs = [line.split('\\t') for line in  lines]\n",
    "    return pairs\n",
    "\n",
    "def clean_data(lines):\n",
    "    cleaned = list()\n",
    "    # prepare regex for char filtering\n",
    "    re_print = re.compile('[^%s]' % re.escape(string.printable))\n",
    "    # prepare translation table for removing punctuation\n",
    "    table = str.maketrans('', '', string.punctuation)\n",
    "    for pair in lines:\n",
    "        clean_pair = list()\n",
    "        for line in pair:\n",
    "            # normalize unicode characters\n",
    "            line = normalize('NFD', line).encode('ascii', 'ignore')\n",
    "            line = line.decode('UTF-8')\n",
    "            # tokenize on white space\n",
    "            line = line.split()\n",
    "            # convert to lowercase\n",
    "            line = [word.lower() for word in line]\n",
    "            # remove punctuation from each token\n",
    "            line = [word.translate(table) for word in line]\n",
    "            # remove non-printable chars form each token\n",
    "            line = [re_print.sub('', w) for w in line]\n",
    "            # remove tokens with numbers in them\n",
    "            line = [word for word in line if word.isalpha()]\n",
    "            # store as string\n",
    "            clean_pair.append(' '.join(line))\n",
    "        cleaned.append(clean_pair)\n",
    "    return numpy.array(cleaned)"
   ]
  },
  {
   "cell_type": "markdown",
   "metadata": {},
   "source": [
    "#### Fill the following blanks:"
   ]
  },
  {
   "cell_type": "code",
   "execution_count": 3,
   "metadata": {},
   "outputs": [],
   "source": [
    "# e.g., filename = 'Data/deu.txt'\n",
    "filename = \"spa.txt\"\n",
    "\n",
    "# e.g., n_train = 20000\n",
    "n_train = 20000"
   ]
  },
  {
   "cell_type": "code",
   "execution_count": 4,
   "metadata": {},
   "outputs": [],
   "source": [
    "# load dataset\n",
    "doc = load_doc(filename)\n",
    "\n",
    "# split into Language1-Language2 pairs\n",
    "pairs = to_pairs(doc)\n",
    "\n",
    "# clean sentences\n",
    "clean_pairs = clean_data(pairs)[0:n_train, :]"
   ]
  },
  {
   "cell_type": "code",
   "execution_count": 5,
   "metadata": {},
   "outputs": [
    {
     "name": "stdout",
     "output_type": "stream",
     "text": [
      "[youre here] => [estas aqui]\n",
      "[youre here] => [estais aqui]\n",
      "[youre late] => [estas retrasado]\n",
      "[youre lost] => [estas perdido]\n",
      "[youre mean] => [eres mala]\n",
      "[youre mean] => [eres mezquino]\n",
      "[youre mine] => [tu eres mio]\n",
      "[youre nice] => [eres simpatico]\n",
      "[youre nuts] => [estas loco]\n",
      "[youre nuts] => [estas chiflado]\n"
     ]
    }
   ],
   "source": [
    "for i in range(3000, 3010):\n",
    "    print('[' + clean_pairs[i, 0] + '] => [' + clean_pairs[i, 1] + ']')"
   ]
  },
  {
   "cell_type": "code",
   "execution_count": 6,
   "metadata": {},
   "outputs": [
    {
     "name": "stdout",
     "output_type": "stream",
     "text": [
      "Length of input_texts:  (20000,)\n",
      "Length of target_texts: (20000,)\n"
     ]
    }
   ],
   "source": [
    "input_texts = clean_pairs[:, 0]\n",
    "target_texts = ['\\t' + text + '\\n' for text in clean_pairs[:, 1]]\n",
    "\n",
    "print('Length of input_texts:  ' + str(input_texts.shape))\n",
    "print('Length of target_texts: ' + str(input_texts.shape))"
   ]
  },
  {
   "cell_type": "code",
   "execution_count": 7,
   "metadata": {},
   "outputs": [
    {
     "name": "stdout",
     "output_type": "stream",
     "text": [
      "max length of input  sentences: 18\n",
      "max length of target sentences: 55\n"
     ]
    }
   ],
   "source": [
    "max_encoder_seq_length = max(len(line) for line in input_texts)\n",
    "max_decoder_seq_length = max(len(line) for line in target_texts)\n",
    "\n",
    "print('max length of input  sentences: %d' % (max_encoder_seq_length))\n",
    "print('max length of target sentences: %d' % (max_decoder_seq_length))"
   ]
  },
  {
   "cell_type": "markdown",
   "metadata": {},
   "source": [
    "**Remark:** To this end, you have two lists of sentences: input_texts and target_texts"
   ]
  },
  {
   "cell_type": "markdown",
   "metadata": {},
   "source": [
    "## 2. Text processing\n",
    "\n",
    "### 2.1. Convert texts to sequences\n",
    "\n",
    "- Input: A list of $n$ sentences (with max length $t$).\n",
    "- It is represented by a $n\\times t$ matrix after the tokenization and zero-padding."
   ]
  },
  {
   "cell_type": "code",
   "execution_count": 8,
   "metadata": {},
   "outputs": [
    {
     "name": "stdout",
     "output_type": "stream",
     "text": [
      "shape of encoder_input_seq: (20000, 18)\n",
      "shape of input_token_index: 27\n",
      "shape of decoder_input_seq: (20000, 55)\n",
      "shape of target_token_index: 29\n"
     ]
    }
   ],
   "source": [
    "from keras.preprocessing.text import Tokenizer\n",
    "from keras.preprocessing.sequence import pad_sequences\n",
    "\n",
    "# encode and pad sequences\n",
    "def text2sequences(max_len, lines):\n",
    "    tokenizer = Tokenizer(char_level=True, filters='')\n",
    "    tokenizer.fit_on_texts(lines)\n",
    "    seqs = tokenizer.texts_to_sequences(lines)\n",
    "    seqs_pad = pad_sequences(seqs, maxlen=max_len, padding='post')\n",
    "    return seqs_pad, tokenizer.word_index\n",
    "\n",
    "\n",
    "encoder_input_seq, input_token_index = text2sequences(max_encoder_seq_length, \n",
    "                                                      input_texts)\n",
    "decoder_input_seq, target_token_index = text2sequences(max_decoder_seq_length, \n",
    "                                                       target_texts)\n",
    "\n",
    "print('shape of encoder_input_seq: ' + str(encoder_input_seq.shape))\n",
    "print('shape of input_token_index: ' + str(len(input_token_index)))\n",
    "print('shape of decoder_input_seq: ' + str(decoder_input_seq.shape))\n",
    "print('shape of target_token_index: ' + str(len(target_token_index)))"
   ]
  },
  {
   "cell_type": "code",
   "execution_count": 9,
   "metadata": {},
   "outputs": [
    {
     "name": "stdout",
     "output_type": "stream",
     "text": [
      "num_encoder_tokens: 28\n",
      "num_decoder_tokens: 30\n"
     ]
    }
   ],
   "source": [
    "num_encoder_tokens = len(input_token_index) + 1\n",
    "num_decoder_tokens = len(target_token_index) + 1\n",
    "\n",
    "print('num_encoder_tokens: ' + str(num_encoder_tokens))\n",
    "print('num_decoder_tokens: ' + str(num_decoder_tokens))"
   ]
  },
  {
   "cell_type": "markdown",
   "metadata": {},
   "source": [
    "**Remark:** To this end, the input language and target language texts are converted to 2 matrices. \n",
    "\n",
    "- Their number of rows are both n_train.\n",
    "- Their number of columns are respective max_encoder_seq_length and max_decoder_seq_length."
   ]
  },
  {
   "cell_type": "markdown",
   "metadata": {},
   "source": [
    "The followings print a sentence and its representation as a sequence."
   ]
  },
  {
   "cell_type": "code",
   "execution_count": 10,
   "metadata": {},
   "outputs": [
    {
     "data": {
      "text/plain": [
       "'\\tno puede ser\\n'"
      ]
     },
     "execution_count": 10,
     "metadata": {},
     "output_type": "execute_result"
    }
   ],
   "source": [
    "target_texts[100]"
   ]
  },
  {
   "cell_type": "code",
   "execution_count": 11,
   "metadata": {},
   "outputs": [
    {
     "data": {
      "text/plain": [
       "array([ 6,  8,  3,  1, 17, 14,  2, 15,  2,  1,  5,  2, 10,  7,  0,  0,  0,\n",
       "        0,  0,  0,  0,  0,  0,  0,  0,  0,  0,  0,  0,  0,  0,  0,  0,  0,\n",
       "        0,  0,  0,  0,  0,  0,  0,  0,  0,  0,  0,  0,  0,  0,  0,  0,  0,\n",
       "        0,  0,  0,  0])"
      ]
     },
     "execution_count": 11,
     "metadata": {},
     "output_type": "execute_result"
    }
   ],
   "source": [
    "decoder_input_seq[100, :]"
   ]
  },
  {
   "cell_type": "markdown",
   "metadata": {},
   "source": [
    "## 2.2. One-hot encode\n",
    "\n",
    "- Input: A list of $n$ sentences (with max length $t$).\n",
    "- It is represented by a $n\\times t$ matrix after the tokenization and zero-padding.\n",
    "- It is represented by a $n\\times t \\times v$ tensor ($t$ is the number of unique chars) after the one-hot encoding."
   ]
  },
  {
   "cell_type": "code",
   "execution_count": 12,
   "metadata": {},
   "outputs": [
    {
     "name": "stdout",
     "output_type": "stream",
     "text": [
      "(20000, 18, 28)\n",
      "(20000, 55, 30)\n"
     ]
    }
   ],
   "source": [
    "from tensorflow.keras.utils import to_categorical\n",
    "\n",
    "# one hot encode target sequence\n",
    "def onehot_encode(sequences, max_len, vocab_size):\n",
    "    n = len(sequences)\n",
    "    data = numpy.zeros((n, max_len, vocab_size))\n",
    "    for i in range(n):\n",
    "        data[i, :, :] = to_categorical(sequences[i], num_classes=vocab_size)\n",
    "    return data\n",
    "\n",
    "encoder_input_data = onehot_encode(encoder_input_seq, max_encoder_seq_length, num_encoder_tokens)\n",
    "decoder_input_data = onehot_encode(decoder_input_seq, max_decoder_seq_length, num_decoder_tokens)\n",
    "\n",
    "decoder_target_seq = numpy.zeros(decoder_input_seq.shape)\n",
    "decoder_target_seq[:, 0:-1] = decoder_input_seq[:, 1:]\n",
    "decoder_target_data = onehot_encode(decoder_target_seq, \n",
    "                                    max_decoder_seq_length, \n",
    "                                    num_decoder_tokens)\n",
    "\n",
    "print(encoder_input_data.shape)\n",
    "print(decoder_input_data.shape)"
   ]
  },
  {
   "cell_type": "markdown",
   "metadata": {},
   "source": [
    "## 3. Build the networks (for training) (20 points)\n",
    "\n",
    "- In this section, we have already implemented the LSTM model for you. You can run the code and see what the code is doing.  \n",
    "\n",
    "- You need to change the existing LSTM model to a Bidirectional LSTM model. Just modify the network structrue and do not change the training cell in section 3.4.\n",
    "\n",
    "- Build encoder, decoder, and connect the two modules to get \"model\". \n",
    "\n",
    "- Fit the model on the bilingual data to train the parameters in the encoder and decoder.\n",
    "\n"
   ]
  },
  {
   "cell_type": "markdown",
   "metadata": {},
   "source": [
    "### 3.1. Encoder network\n",
    "\n",
    "- Input:  one-hot encode of the input language\n",
    "\n",
    "- Return: \n",
    "\n",
    "    -- output (all the hidden states   $h_1, \\cdots , h_t$) are always discarded\n",
    "    \n",
    "    -- the final hidden state  $h_t$\n",
    "    \n",
    "    -- the final conveyor belt $c_t$"
   ]
  },
  {
   "cell_type": "code",
   "execution_count": 13,
   "metadata": {},
   "outputs": [],
   "source": [
    "from tensorflow.keras.layers import Input, LSTM\n",
    "from tensorflow.keras.models import Model\n",
    "from keras.layers import Bidirectional, Concatenate, LSTM\n",
    "\n",
    "latent_dim = 256\n",
    "\n",
    "encoder_inputs = Input(shape=(None, num_encoder_tokens), \n",
    "                       name='encoder_inputs')\n",
    "\n",
    "\n",
    "encoder_lstm = Bidirectional(LSTM(latent_dim , return_state=True, \n",
    "                    dropout=0.5, name='encoder_lstm'))\n",
    "\n",
    "_, forward_h, forward_c, backward_h, backward_c = encoder_lstm(encoder_inputs)\n",
    "\n",
    "state_h = Concatenate()([forward_h, backward_h])\n",
    "state_c = Concatenate()([forward_c, backward_c])\n",
    "\n",
    "# Build the encoder network model\n",
    "encoder_model = Model(inputs=encoder_inputs, outputs=[state_h, state_c],name='encoder')"
   ]
  },
  {
   "cell_type": "markdown",
   "metadata": {},
   "source": [
    "Print a summary and save the encoder network structure to \"./encoder.pdf\""
   ]
  },
  {
   "cell_type": "code",
   "execution_count": 14,
   "metadata": {},
   "outputs": [
    {
     "name": "stdout",
     "output_type": "stream",
     "text": [
      "Model: \"encoder\"\n",
      "__________________________________________________________________________________________________\n",
      "Layer (type)                    Output Shape         Param #     Connected to                     \n",
      "==================================================================================================\n",
      "encoder_inputs (InputLayer)     [(None, None, 28)]   0                                            \n",
      "__________________________________________________________________________________________________\n",
      "bidirectional (Bidirectional)   [(None, 512), (None, 583680      encoder_inputs[0][0]             \n",
      "__________________________________________________________________________________________________\n",
      "concatenate (Concatenate)       (None, 512)          0           bidirectional[0][1]              \n",
      "                                                                 bidirectional[0][3]              \n",
      "__________________________________________________________________________________________________\n",
      "concatenate_1 (Concatenate)     (None, 512)          0           bidirectional[0][2]              \n",
      "                                                                 bidirectional[0][4]              \n",
      "==================================================================================================\n",
      "Total params: 583,680\n",
      "Trainable params: 583,680\n",
      "Non-trainable params: 0\n",
      "__________________________________________________________________________________________________\n"
     ]
    }
   ],
   "source": [
    "from IPython.display import SVG\n",
    "from keras.utils.vis_utils import model_to_dot, plot_model\n",
    "\n",
    "SVG(model_to_dot(encoder_model, show_shapes=False).create(prog='dot', format='svg'))\n",
    "\n",
    "plot_model(\n",
    "    model=encoder_model, show_shapes=False,\n",
    "    to_file='encoder.pdf'\n",
    ")\n",
    "\n",
    "encoder_model.summary()"
   ]
  },
  {
   "cell_type": "markdown",
   "metadata": {},
   "source": [
    "### 3.2. Decoder network\n",
    "\n",
    "- Inputs:  \n",
    "\n",
    "    -- one-hot encode of the target language\n",
    "    \n",
    "    -- The initial hidden state $h_t$ \n",
    "    \n",
    "    -- The initial conveyor belt $c_t$ \n",
    "\n",
    "- Return: \n",
    "\n",
    "    -- output (all the hidden states) $h_1, \\cdots , h_t$\n",
    "\n",
    "    -- the final hidden state  $h_t$ (discarded in the training and used in the prediction)\n",
    "    \n",
    "    -- the final conveyor belt $c_t$ (discarded in the training and used in the prediction)"
   ]
  },
  {
   "cell_type": "code",
   "execution_count": 15,
   "metadata": {},
   "outputs": [],
   "source": [
    "from keras.layers import Input, LSTM, Dense\n",
    "from keras.models import Model\n",
    "\n",
    "\n",
    "latent_dim = 512\n",
    "\n",
    "# inputs of the decoder network\n",
    "decoder_input_h = Input(shape=(latent_dim,), name='decoder_input_h')\n",
    "decoder_input_c = Input(shape=(latent_dim,), name='decoder_input_c')\n",
    "decoder_input_x = Input(shape=(None, num_decoder_tokens), name='decoder_input_x')\n",
    "\n",
    "# set the LSTM layer\n",
    "decoder_lstm = LSTM(latent_dim, return_sequences=True, \n",
    "                    return_state=True, dropout=0.5, name='decoder_lstm')\n",
    "decoder_lstm_outputs, state_h, state_c = decoder_lstm(decoder_input_x, \n",
    "                                                      initial_state=[decoder_input_h, decoder_input_c])\n",
    "\n",
    "# set the dense layer\n",
    "decoder_dense = Dense(num_decoder_tokens, activation='softmax', name='decoder_dense')\n",
    "decoder_outputs = decoder_dense(decoder_lstm_outputs)\n",
    "\n",
    "# build the decoder network model\n",
    "decoder_model = Model(inputs=[decoder_input_x, decoder_input_h, decoder_input_c],\n",
    "                      outputs=[decoder_outputs, state_h, state_c],\n",
    "                      name='decoder')"
   ]
  },
  {
   "cell_type": "markdown",
   "metadata": {},
   "source": [
    "Print a summary and save the encoder network structure to \"./decoder.pdf\""
   ]
  },
  {
   "cell_type": "code",
   "execution_count": 16,
   "metadata": {},
   "outputs": [
    {
     "name": "stdout",
     "output_type": "stream",
     "text": [
      "Model: \"decoder\"\n",
      "__________________________________________________________________________________________________\n",
      "Layer (type)                    Output Shape         Param #     Connected to                     \n",
      "==================================================================================================\n",
      "decoder_input_x (InputLayer)    [(None, None, 30)]   0                                            \n",
      "__________________________________________________________________________________________________\n",
      "decoder_input_h (InputLayer)    [(None, 512)]        0                                            \n",
      "__________________________________________________________________________________________________\n",
      "decoder_input_c (InputLayer)    [(None, 512)]        0                                            \n",
      "__________________________________________________________________________________________________\n",
      "decoder_lstm (LSTM)             [(None, None, 512),  1112064     decoder_input_x[0][0]            \n",
      "                                                                 decoder_input_h[0][0]            \n",
      "                                                                 decoder_input_c[0][0]            \n",
      "__________________________________________________________________________________________________\n",
      "decoder_dense (Dense)           (None, None, 30)     15390       decoder_lstm[0][0]               \n",
      "==================================================================================================\n",
      "Total params: 1,127,454\n",
      "Trainable params: 1,127,454\n",
      "Non-trainable params: 0\n",
      "__________________________________________________________________________________________________\n"
     ]
    }
   ],
   "source": [
    "from IPython.display import SVG\n",
    "from keras.utils.vis_utils import model_to_dot, plot_model\n",
    "\n",
    "SVG(model_to_dot(decoder_model, show_shapes=False).create(prog='dot', format='svg'))\n",
    "\n",
    "plot_model(\n",
    "    model=decoder_model, show_shapes=False,\n",
    "    to_file='decoder.pdf'\n",
    ")\n",
    "\n",
    "decoder_model.summary()"
   ]
  },
  {
   "cell_type": "markdown",
   "metadata": {},
   "source": [
    "### 3.3. Connect the encoder and decoder"
   ]
  },
  {
   "cell_type": "code",
   "execution_count": 17,
   "metadata": {},
   "outputs": [],
   "source": [
    "# input layers\n",
    "encoder_input_x = Input(shape=(None, num_encoder_tokens), name='encoder_input_x')\n",
    "decoder_input_x = Input(shape=(None, num_decoder_tokens), name='decoder_input_x')\n",
    "\n",
    "# connect encoder to decoder\n",
    "encoder_final_states = encoder_model([encoder_input_x])\n",
    "decoder_lstm_output, _, _ = decoder_lstm(decoder_input_x, initial_state=encoder_final_states)\n",
    "decoder_pred = decoder_dense(decoder_lstm_output)\n",
    "\n",
    "model = Model(inputs=[encoder_input_x, decoder_input_x], \n",
    "              outputs=decoder_pred, \n",
    "              name='model_training')"
   ]
  },
  {
   "cell_type": "code",
   "execution_count": 18,
   "metadata": {},
   "outputs": [
    {
     "name": "stdout",
     "output_type": "stream",
     "text": [
      "Model: \"model_training\"\n",
      "__________________________________________________________________________________________________\n",
      "Layer (type)                    Output Shape         Param #     Connected to                     \n",
      "==================================================================================================\n",
      "encoder_input_x (InputLayer)    [(None, None, 28)]   0                                            \n",
      "__________________________________________________________________________________________________\n",
      "decoder_input_x (InputLayer)    [(None, None, 30)]   0                                            \n",
      "__________________________________________________________________________________________________\n",
      "encoder (Functional)            [(None, 512), (None, 583680      encoder_input_x[0][0]            \n",
      "__________________________________________________________________________________________________\n",
      "decoder_lstm (LSTM)             [(None, None, 512),  1112064     decoder_input_x[0][0]            \n",
      "                                                                 encoder[0][0]                    \n",
      "                                                                 encoder[0][1]                    \n",
      "__________________________________________________________________________________________________\n",
      "decoder_dense (Dense)           (None, None, 30)     15390       decoder_lstm[1][0]               \n",
      "==================================================================================================\n",
      "Total params: 1,711,134\n",
      "Trainable params: 1,711,134\n",
      "Non-trainable params: 0\n",
      "__________________________________________________________________________________________________\n"
     ]
    }
   ],
   "source": [
    "from IPython.display import SVG\n",
    "from keras.utils.vis_utils import model_to_dot, plot_model\n",
    "\n",
    "SVG(model_to_dot(model, show_shapes=False).create(prog='dot', format='svg'))\n",
    "\n",
    "plot_model(\n",
    "    model=model, show_shapes=False,\n",
    "    to_file='model_training.pdf'\n",
    ")\n",
    "\n",
    "model.summary()"
   ]
  },
  {
   "cell_type": "markdown",
   "metadata": {},
   "source": [
    "### 3.4. Fit the model on the bilingual dataset\n",
    "\n",
    "- encoder_input_data: one-hot encode of the input language\n",
    "\n",
    "- decoder_input_data: one-hot encode of the input language\n",
    "\n",
    "- decoder_target_data: labels (left shift of decoder_input_data)\n",
    "\n",
    "- tune the hyper-parameters\n",
    "\n",
    "- stop when the validation loss stop decreasing."
   ]
  },
  {
   "cell_type": "code",
   "execution_count": 19,
   "metadata": {},
   "outputs": [
    {
     "name": "stdout",
     "output_type": "stream",
     "text": [
      "shape of encoder_input_data(20000, 18, 28)\n",
      "shape of decoder_input_data(20000, 55, 30)\n",
      "shape of decoder_target_data(20000, 55, 30)\n"
     ]
    }
   ],
   "source": [
    "print('shape of encoder_input_data' + str(encoder_input_data.shape))\n",
    "print('shape of decoder_input_data' + str(decoder_input_data.shape))\n",
    "print('shape of decoder_target_data' + str(decoder_target_data.shape))"
   ]
  },
  {
   "cell_type": "code",
   "execution_count": 20,
   "metadata": {},
   "outputs": [
    {
     "name": "stdout",
     "output_type": "stream",
     "text": [
      "Epoch 1/50\n",
      "250/250 [==============================] - 10s 18ms/step - loss: 0.9219 - accuracy: 0.7464 - val_loss: 0.8414 - val_accuracy: 0.7445\n",
      "Epoch 2/50\n",
      "250/250 [==============================] - 3s 13ms/step - loss: 0.7115 - accuracy: 0.7838 - val_loss: 0.7204 - val_accuracy: 0.7803\n",
      "Epoch 3/50\n",
      "250/250 [==============================] - 3s 13ms/step - loss: 0.6698 - accuracy: 0.7963 - val_loss: 0.6769 - val_accuracy: 0.7937\n",
      "Epoch 4/50\n",
      "250/250 [==============================] - 3s 13ms/step - loss: 0.6410 - accuracy: 0.8048 - val_loss: 0.6350 - val_accuracy: 0.8047\n",
      "Epoch 5/50\n",
      "250/250 [==============================] - 3s 13ms/step - loss: 0.6204 - accuracy: 0.8110 - val_loss: 0.6129 - val_accuracy: 0.8092\n",
      "Epoch 6/50\n",
      "250/250 [==============================] - 3s 13ms/step - loss: 0.6014 - accuracy: 0.8168 - val_loss: 0.5890 - val_accuracy: 0.8174\n",
      "Epoch 7/50\n",
      "250/250 [==============================] - 3s 13ms/step - loss: 0.5864 - accuracy: 0.8213 - val_loss: 0.5726 - val_accuracy: 0.8236\n",
      "Epoch 8/50\n",
      "250/250 [==============================] - 3s 14ms/step - loss: 0.5737 - accuracy: 0.8255 - val_loss: 0.5598 - val_accuracy: 0.8284\n",
      "Epoch 9/50\n",
      "250/250 [==============================] - 3s 13ms/step - loss: 0.5621 - accuracy: 0.8288 - val_loss: 0.5401 - val_accuracy: 0.8351\n",
      "Epoch 10/50\n",
      "250/250 [==============================] - 3s 13ms/step - loss: 0.5506 - accuracy: 0.8323 - val_loss: 0.5346 - val_accuracy: 0.8352\n",
      "Epoch 11/50\n",
      "250/250 [==============================] - 3s 13ms/step - loss: 0.5408 - accuracy: 0.8355 - val_loss: 0.5245 - val_accuracy: 0.8389\n",
      "Epoch 12/50\n",
      "250/250 [==============================] - 3s 13ms/step - loss: 0.5313 - accuracy: 0.8381 - val_loss: 0.5147 - val_accuracy: 0.8420\n",
      "Epoch 13/50\n",
      "250/250 [==============================] - 3s 13ms/step - loss: 0.5223 - accuracy: 0.8407 - val_loss: 0.5059 - val_accuracy: 0.8441\n",
      "Epoch 14/50\n",
      "250/250 [==============================] - 3s 13ms/step - loss: 0.5153 - accuracy: 0.8430 - val_loss: 0.4982 - val_accuracy: 0.8463\n",
      "Epoch 15/50\n",
      "250/250 [==============================] - 3s 13ms/step - loss: 0.5071 - accuracy: 0.8453 - val_loss: 0.4912 - val_accuracy: 0.8487\n",
      "Epoch 16/50\n",
      "250/250 [==============================] - 3s 13ms/step - loss: 0.4996 - accuracy: 0.8478 - val_loss: 0.4873 - val_accuracy: 0.8506\n",
      "Epoch 17/50\n",
      "250/250 [==============================] - 3s 13ms/step - loss: 0.4936 - accuracy: 0.8493 - val_loss: 0.4778 - val_accuracy: 0.8529\n",
      "Epoch 18/50\n",
      "250/250 [==============================] - 3s 13ms/step - loss: 0.4866 - accuracy: 0.8517 - val_loss: 0.4747 - val_accuracy: 0.8537\n",
      "Epoch 19/50\n",
      "250/250 [==============================] - 3s 13ms/step - loss: 0.4825 - accuracy: 0.8530 - val_loss: 0.4708 - val_accuracy: 0.8559\n",
      "Epoch 20/50\n",
      "250/250 [==============================] - 3s 13ms/step - loss: 0.4767 - accuracy: 0.8550 - val_loss: 0.4660 - val_accuracy: 0.8574\n",
      "Epoch 21/50\n",
      "250/250 [==============================] - 3s 13ms/step - loss: 0.4715 - accuracy: 0.8561 - val_loss: 0.4624 - val_accuracy: 0.8584\n",
      "Epoch 22/50\n",
      "250/250 [==============================] - 3s 13ms/step - loss: 0.4669 - accuracy: 0.8576 - val_loss: 0.4603 - val_accuracy: 0.8588\n",
      "Epoch 23/50\n",
      "250/250 [==============================] - 3s 13ms/step - loss: 0.4621 - accuracy: 0.8588 - val_loss: 0.4547 - val_accuracy: 0.8611\n",
      "Epoch 24/50\n",
      "250/250 [==============================] - 3s 13ms/step - loss: 0.4571 - accuracy: 0.8605 - val_loss: 0.4540 - val_accuracy: 0.8605\n",
      "Epoch 25/50\n",
      "250/250 [==============================] - 3s 13ms/step - loss: 0.4514 - accuracy: 0.8621 - val_loss: 0.4514 - val_accuracy: 0.8613\n",
      "Epoch 26/50\n",
      "250/250 [==============================] - 3s 13ms/step - loss: 0.4493 - accuracy: 0.8625 - val_loss: 0.4493 - val_accuracy: 0.8627\n",
      "Epoch 27/50\n",
      "250/250 [==============================] - 3s 13ms/step - loss: 0.4458 - accuracy: 0.8641 - val_loss: 0.4448 - val_accuracy: 0.8643\n",
      "Epoch 28/50\n",
      "250/250 [==============================] - 3s 13ms/step - loss: 0.4404 - accuracy: 0.8654 - val_loss: 0.4457 - val_accuracy: 0.8645\n",
      "Epoch 29/50\n",
      "250/250 [==============================] - 3s 13ms/step - loss: 0.4378 - accuracy: 0.8661 - val_loss: 0.4394 - val_accuracy: 0.8660\n",
      "Epoch 30/50\n",
      "250/250 [==============================] - 3s 13ms/step - loss: 0.4337 - accuracy: 0.8676 - val_loss: 0.4405 - val_accuracy: 0.8655\n",
      "Epoch 31/50\n",
      "250/250 [==============================] - 3s 13ms/step - loss: 0.4293 - accuracy: 0.8685 - val_loss: 0.4376 - val_accuracy: 0.8663\n",
      "Epoch 32/50\n",
      "250/250 [==============================] - 3s 13ms/step - loss: 0.4257 - accuracy: 0.8697 - val_loss: 0.4402 - val_accuracy: 0.8657\n",
      "Epoch 33/50\n",
      "250/250 [==============================] - 3s 13ms/step - loss: 0.4223 - accuracy: 0.8704 - val_loss: 0.4375 - val_accuracy: 0.8658\n",
      "Epoch 34/50\n",
      "250/250 [==============================] - 3s 13ms/step - loss: 0.4226 - accuracy: 0.8706 - val_loss: 0.4328 - val_accuracy: 0.8678\n",
      "Epoch 35/50\n",
      "250/250 [==============================] - 3s 13ms/step - loss: 0.4152 - accuracy: 0.8726 - val_loss: 0.4334 - val_accuracy: 0.8680\n",
      "Epoch 36/50\n",
      "250/250 [==============================] - 3s 13ms/step - loss: 0.4139 - accuracy: 0.8729 - val_loss: 0.4327 - val_accuracy: 0.8688\n",
      "Epoch 37/50\n",
      "250/250 [==============================] - 3s 14ms/step - loss: 0.4119 - accuracy: 0.8737 - val_loss: 0.4313 - val_accuracy: 0.8689\n",
      "Epoch 38/50\n",
      "250/250 [==============================] - 3s 13ms/step - loss: 0.4091 - accuracy: 0.8745 - val_loss: 0.4326 - val_accuracy: 0.8686\n",
      "Epoch 39/50\n",
      "250/250 [==============================] - 3s 13ms/step - loss: 0.4046 - accuracy: 0.8757 - val_loss: 0.4305 - val_accuracy: 0.8692\n",
      "Epoch 40/50\n",
      "250/250 [==============================] - 3s 13ms/step - loss: 0.4028 - accuracy: 0.8766 - val_loss: 0.4297 - val_accuracy: 0.8696\n",
      "Epoch 41/50\n",
      "250/250 [==============================] - 3s 13ms/step - loss: 0.4004 - accuracy: 0.8769 - val_loss: 0.4270 - val_accuracy: 0.8709\n",
      "Epoch 42/50\n",
      "250/250 [==============================] - 3s 13ms/step - loss: 0.3970 - accuracy: 0.8780 - val_loss: 0.4289 - val_accuracy: 0.8697\n",
      "Epoch 43/50\n",
      "250/250 [==============================] - 3s 13ms/step - loss: 0.3962 - accuracy: 0.8780 - val_loss: 0.4300 - val_accuracy: 0.8696\n",
      "Epoch 44/50\n",
      "250/250 [==============================] - 3s 13ms/step - loss: 0.3923 - accuracy: 0.8797 - val_loss: 0.4282 - val_accuracy: 0.8699\n",
      "Epoch 45/50\n",
      "250/250 [==============================] - 3s 13ms/step - loss: 0.3893 - accuracy: 0.8803 - val_loss: 0.4273 - val_accuracy: 0.8706\n",
      "Epoch 46/50\n",
      "250/250 [==============================] - 3s 13ms/step - loss: 0.3874 - accuracy: 0.8810 - val_loss: 0.4304 - val_accuracy: 0.8701\n",
      "Epoch 47/50\n",
      "250/250 [==============================] - 3s 13ms/step - loss: 0.3846 - accuracy: 0.8814 - val_loss: 0.4259 - val_accuracy: 0.8712\n",
      "Epoch 48/50\n",
      "250/250 [==============================] - 3s 13ms/step - loss: 0.3826 - accuracy: 0.8823 - val_loss: 0.4284 - val_accuracy: 0.8706\n",
      "Epoch 49/50\n",
      "250/250 [==============================] - 3s 13ms/step - loss: 0.3808 - accuracy: 0.8826 - val_loss: 0.4283 - val_accuracy: 0.8706\n",
      "Epoch 50/50\n",
      "250/250 [==============================] - 3s 13ms/step - loss: 0.3798 - accuracy: 0.8830 - val_loss: 0.4294 - val_accuracy: 0.8704\n"
     ]
    }
   ],
   "source": [
    "model.compile(optimizer='rmsprop', loss='categorical_crossentropy', metrics = ['accuracy'])\n",
    "\n",
    "model.fit([encoder_input_data, decoder_input_data],  # training data\n",
    "          decoder_target_data,                       # labels (left shift of the target sequences)\n",
    "          batch_size=64, epochs=50, validation_split=0.2)\n",
    "\n",
    "model.save('seq2seq.h5')"
   ]
  },
  {
   "cell_type": "markdown",
   "metadata": {},
   "source": [
    "## 4. Make predictions\n",
    "\n",
    "- In this section, you need to complete section 4.2 to translate English to the target language.\n",
    "\n",
    "\n",
    "### 4.1. Translate English to Spanish\n",
    "\n",
    "1. Encoder read a sentence (source language) and output its final states, $h_t$ and $c_t$.\n",
    "2. Take the [star] sign \"\\t\" and the final state $h_t$ and $c_t$ as input and run the decoder.\n",
    "3. Get the new states and predicted probability distribution.\n",
    "4. sample a char from the predicted probability distribution\n",
    "5. take the sampled char and the new states as input and repeat the process (stop if reach the [stop] sign \"\\n\")."
   ]
  },
  {
   "cell_type": "code",
   "execution_count": 21,
   "metadata": {},
   "outputs": [],
   "source": [
    "# Reverse-lookup token index to decode sequences back to something readable.\n",
    "reverse_input_char_index = dict((i, char) for char, i in input_token_index.items())\n",
    "reverse_target_char_index = dict((i, char) for char, i in target_token_index.items())"
   ]
  },
  {
   "cell_type": "code",
   "execution_count": 22,
   "metadata": {},
   "outputs": [],
   "source": [
    "def decode_sequence(input_seq, temperature = 0.2):\n",
    "    states_value = encoder_model.predict(input_seq)\n",
    "\n",
    "    target_seq = numpy.zeros((1, 1, num_decoder_tokens))\n",
    "    target_seq[0, 0, target_token_index['\\t']] = 1.\n",
    "\n",
    "    stop_condition = False\n",
    "    decoded_sentence = ''\n",
    "    while not stop_condition:\n",
    "        output_tokens, h, c = decoder_model.predict([target_seq] + states_value)\n",
    "\n",
    "        # this line of code is greedy selection\n",
    "        # try to use multinomial sampling instead (with temperature)\n",
    "        # sampled_token_index = numpy.argmax(output_tokens[0, -1, :])\n",
    "\n",
    "        # Multinomial sampling with temperature\n",
    "        p = output_tokens[0, -1, :]\n",
    "        p = numpy.asarray(p).astype('float64')\n",
    "        p = p ** (1 / temperature)\n",
    "        p = p / numpy.sum(p)\n",
    "\n",
    "        next_onehot = numpy.random.multinomial(1,p,1)\n",
    "        sampled_token_index = numpy.argmax(next_onehot)\n",
    "\n",
    "        # To handle the 0 index error\n",
    "        if sampled_token_index == 0:\n",
    "            break\n",
    "        \n",
    "        sampled_char = reverse_target_char_index[sampled_token_index]\n",
    "        decoded_sentence += sampled_char\n",
    "\n",
    "        if (sampled_char == '\\n' or\n",
    "           len(decoded_sentence) > max_decoder_seq_length):\n",
    "            stop_condition = True\n",
    "\n",
    "        target_seq = numpy.zeros((1, 1, num_decoder_tokens))\n",
    "        target_seq[0, 0, sampled_token_index] = 1.\n",
    "\n",
    "        states_value = [h, c]\n",
    "\n",
    "    return decoded_sentence\n"
   ]
  },
  {
   "cell_type": "code",
   "execution_count": 23,
   "metadata": {},
   "outputs": [
    {
     "name": "stdout",
     "output_type": "stream",
     "text": [
      "-\n",
      "English:        hes skinny\n",
      "Spanish (true):  el esta delgado\n",
      "Spanish (pred):  el es amagle\n",
      "-\n",
      "English:        hes strong\n",
      "Spanish (true):  el es fuerte\n",
      "Spanish (pred):  el es amable\n",
      "-\n",
      "English:        hes stupid\n",
      "Spanish (true):  el es estupido\n",
      "Spanish (pred):  es esta listo\n",
      "-\n",
      "English:        hes stupid\n",
      "Spanish (true):  no le llega agua al tanque\n",
      "Spanish (pred):  el es a tu\n",
      "-\n",
      "English:        hes stupid\n",
      "Spanish (true):  es un salame\n",
      "Spanish (pred):  el es amariente\n",
      "-\n",
      "English:        help me out\n",
      "Spanish (true):  ayudame\n",
      "Spanish (pred):  ayudame\n",
      "-\n",
      "English:        help me out\n",
      "Spanish (true):  ayudame a salir\n",
      "Spanish (pred):  ayudame\n",
      "-\n",
      "English:        help me out\n",
      "Spanish (true):  echeme la mano\n",
      "Spanish (pred):  ayudame\n",
      "-\n",
      "English:        help me out\n",
      "Spanish (true):  ayudame a salir\n",
      "Spanish (pred):  ayudame\n",
      "-\n",
      "English:        here i come\n",
      "Spanish (true):  aqui vengo\n",
      "Spanish (pred):  aqui estamos\n",
      "-\n",
      "English:        here i come\n",
      "Spanish (true):  ya estoy aqui\n",
      "Spanish (pred):  aqui estamos\n",
      "-\n",
      "English:        here she is\n",
      "Spanish (true):  aqui esta ella\n",
      "Spanish (pred):  toma esta el terido\n",
      "-\n",
      "English:        here we are\n",
      "Spanish (true):  aqui estamos\n",
      "Spanish (pred):  aqui estamos\n",
      "-\n",
      "English:        here we are\n",
      "Spanish (true):  aqui estamos\n",
      "Spanish (pred):  aqui estamos\n",
      "-\n",
      "English:        hi im tom\n",
      "Spanish (true):  hola soy tom\n",
      "Spanish (pred):  el es tom\n",
      "-\n",
      "English:        hit it hard\n",
      "Spanish (true):  dele fuerte\n",
      "Spanish (pred):  sela alli\n",
      "-\n",
      "English:        how are you\n",
      "Spanish (true):  como estas vos\n",
      "Spanish (pred):  que tal te va\n",
      "-\n",
      "English:        how curious\n",
      "Spanish (true):  que curioso\n",
      "Spanish (pred):  que rurioso\n",
      "-\n",
      "English:        how strange\n",
      "Spanish (true):  que raro\n",
      "Spanish (pred):  que ralo\n",
      "-\n",
      "English:        how strange\n",
      "Spanish (true):  que raro\n",
      "Spanish (pred):  que ralo\n"
     ]
    }
   ],
   "source": [
    "for seq_index in range(2100, 2120):\n",
    "    # Take one sequence (part of the training set)\n",
    "    # for trying out decoding.\n",
    "    input_seq = encoder_input_data[seq_index: seq_index + 1]\n",
    "    decoded_sentence = decode_sequence(input_seq)\n",
    "    print('-')\n",
    "    print('English:       ', input_texts[seq_index])\n",
    "    print('Spanish (true): ', target_texts[seq_index][1:-1])\n",
    "    print('Spanish (pred): ', decoded_sentence[0:-1])"
   ]
  },
  {
   "cell_type": "markdown",
   "metadata": {},
   "source": [
    "### 4.2. Translate an English sentence to the target language （20 points）\n",
    "\n",
    "1. Tokenization\n",
    "2. One-hot encode\n",
    "3. Translate"
   ]
  },
  {
   "cell_type": "code",
   "execution_count": 24,
   "metadata": {},
   "outputs": [
    {
     "name": "stdout",
     "output_type": "stream",
     "text": [
      "source sentence is: I love you\n",
      "translated sentence is: yo amo a tom\n",
      "\n"
     ]
    }
   ],
   "source": [
    "input_sentence = 'I love you'\n",
    "\n",
    "tokenizer = Tokenizer(char_level=True, filters='')\n",
    "tokenizer.word_index = input_token_index\n",
    "sequence = tokenizer.texts_to_sequences([input_sentence])\n",
    "\n",
    "input_sequence = pad_sequences(sequence, maxlen=max_encoder_seq_length, dtype='int32', padding='post')\n",
    "\n",
    "input_x = onehot_encode(input_sequence,max_encoder_seq_length,num_encoder_tokens )\n",
    "\n",
    "output_sentence = decode_sequence(input_x)\n",
    "\n",
    "print('source sentence is: ' + input_sentence)\n",
    "print('translated sentence is: ' + output_sentence)"
   ]
  },
  {
   "cell_type": "markdown",
   "metadata": {},
   "source": [
    "### 5.1. Partition the dataset to training, validation, and test. Build new token index. (10 points)\n",
    "\n",
    "1. You may try to load more data/lines from text file.\n",
    "2. Convert text to sequences and build token index using training data.\n",
    "3. One-hot encode your training and validation text sequences."
   ]
  },
  {
   "cell_type": "code",
   "execution_count": 25,
   "metadata": {},
   "outputs": [
    {
     "name": "stdout",
     "output_type": "stream",
     "text": [
      "Length of input_texts:  (100000,)\n",
      "Length of target_texts: (100000,)\n"
     ]
    }
   ],
   "source": [
    "cleaned_pairs = clean_data(pairs)[0:100000, :]\n",
    "input_texts = cleaned_pairs[:, 0]\n",
    "target_texts = ['\\t' + text + '\\n' for text in cleaned_pairs[:, 1]]\n",
    "\n",
    "print('Length of input_texts:  ' + str(input_texts.shape))\n",
    "print('Length of target_texts: ' + str(input_texts.shape))"
   ]
  },
  {
   "cell_type": "code",
   "execution_count": 26,
   "metadata": {},
   "outputs": [
    {
     "name": "stdout",
     "output_type": "stream",
     "text": [
      "max length of input  sentences: 36\n",
      "max length of target sentences: 87\n"
     ]
    }
   ],
   "source": [
    "max_encoder_seq_length = max(len(line) for line in input_texts)\n",
    "max_decoder_seq_length = max(len(line) for line in target_texts)\n",
    "\n",
    "print('max length of input  sentences: %d' % (max_encoder_seq_length))\n",
    "print('max length of target sentences: %d' % (max_decoder_seq_length))"
   ]
  },
  {
   "cell_type": "code",
   "execution_count": 27,
   "metadata": {},
   "outputs": [],
   "source": [
    "encoder_input_seq, input_token_index = text2sequences(max_encoder_seq_length, \n",
    "                                                      input_texts)\n",
    "decoder_input_seq, target_token_index = text2sequences(max_decoder_seq_length, \n",
    "                                                       target_texts)"
   ]
  },
  {
   "cell_type": "code",
   "execution_count": 28,
   "metadata": {
    "scrolled": true
   },
   "outputs": [
    {
     "name": "stdout",
     "output_type": "stream",
     "text": [
      "shape of encoder_input_seq: (100000, 36)\n",
      "shape of input_token_index: 27\n",
      "shape of decoder_input_seq: (100000, 87)\n",
      "shape of target_token_index: 29\n"
     ]
    }
   ],
   "source": [
    "print('shape of encoder_input_seq: ' + str(encoder_input_seq.shape))\n",
    "print('shape of input_token_index: ' + str(len(input_token_index)))\n",
    "print('shape of decoder_input_seq: ' + str(decoder_input_seq.shape))\n",
    "print('shape of target_token_index: ' + str(len(target_token_index)))"
   ]
  },
  {
   "cell_type": "code",
   "execution_count": 29,
   "metadata": {},
   "outputs": [],
   "source": [
    "num_encoder_tokens = len(input_token_index) + 1\n",
    "num_decoder_tokens = len(target_token_index) + 1"
   ]
  },
  {
   "cell_type": "code",
   "execution_count": 30,
   "metadata": {},
   "outputs": [
    {
     "data": {
      "text/plain": [
       "28"
      ]
     },
     "execution_count": 30,
     "metadata": {},
     "output_type": "execute_result"
    }
   ],
   "source": [
    "num_encoder_tokens"
   ]
  },
  {
   "cell_type": "code",
   "execution_count": 31,
   "metadata": {},
   "outputs": [
    {
     "data": {
      "text/plain": [
       "30"
      ]
     },
     "execution_count": 31,
     "metadata": {},
     "output_type": "execute_result"
    }
   ],
   "source": [
    "num_decoder_tokens"
   ]
  },
  {
   "cell_type": "code",
   "execution_count": 32,
   "metadata": {},
   "outputs": [],
   "source": [
    "encoder_input_data = onehot_encode(encoder_input_seq, max_encoder_seq_length, num_encoder_tokens)\n",
    "decoder_input_data = onehot_encode(decoder_input_seq, max_decoder_seq_length, num_decoder_tokens)\n",
    "\n",
    "decoder_target_seq = numpy.zeros(decoder_input_seq.shape)\n",
    "decoder_target_seq[:, 0:-1] = decoder_input_seq[:, 1:]\n",
    "decoder_target_data = onehot_encode(decoder_target_seq, max_decoder_seq_length, num_decoder_tokens)"
   ]
  },
  {
   "cell_type": "code",
   "execution_count": 33,
   "metadata": {},
   "outputs": [
    {
     "data": {
      "text/plain": [
       "(100000, 36, 28)"
      ]
     },
     "execution_count": 33,
     "metadata": {},
     "output_type": "execute_result"
    }
   ],
   "source": [
    "encoder_input_data.shape"
   ]
  },
  {
   "cell_type": "code",
   "execution_count": 34,
   "metadata": {},
   "outputs": [
    {
     "data": {
      "text/plain": [
       "(100000, 87, 30)"
      ]
     },
     "execution_count": 34,
     "metadata": {},
     "output_type": "execute_result"
    }
   ],
   "source": [
    "decoder_input_data.shape"
   ]
  },
  {
   "cell_type": "code",
   "execution_count": 35,
   "metadata": {},
   "outputs": [
    {
     "data": {
      "text/plain": [
       "(100000, 87, 30)"
      ]
     },
     "execution_count": 35,
     "metadata": {},
     "output_type": "execute_result"
    }
   ],
   "source": [
    "decoder_target_data.shape"
   ]
  },
  {
   "cell_type": "code",
   "execution_count": 36,
   "metadata": {},
   "outputs": [],
   "source": [
    "rand_indices = numpy.random.permutation(100000)\n",
    "train_rand_indices = rand_indices[0:70000]\n",
    "valid_rand_indices = rand_indices[70000:85000]\n",
    "test_rand_indices = rand_indices[85000:100000]\n",
    "\n",
    "\n",
    "encoder_input_data_train = encoder_input_data[train_rand_indices,:]\n",
    "encoder_input_data_valid = encoder_input_data[valid_rand_indices,:]\n",
    "encoder_input_data_test = encoder_input_data[test_rand_indices,:] \n",
    "\n",
    "decoder_input_data_train = decoder_input_data[train_rand_indices,:]\n",
    "decoder_input_data_valid = decoder_input_data[valid_rand_indices,:]\n",
    "decoder_input_data_test = decoder_input_data[test_rand_indices,:] \n",
    "\n",
    "\n",
    "decoder_target_data_train = decoder_target_data[train_rand_indices,:]\n",
    "decoder_target_data_valid = decoder_target_data[valid_rand_indices,:]\n",
    "decoder_target_data_test = decoder_target_data[test_rand_indices,:] "
   ]
  },
  {
   "cell_type": "code",
   "execution_count": 37,
   "metadata": {},
   "outputs": [
    {
     "data": {
      "text/plain": [
       "(70000, 36, 28)"
      ]
     },
     "execution_count": 37,
     "metadata": {},
     "output_type": "execute_result"
    }
   ],
   "source": [
    "encoder_input_data_train.shape"
   ]
  },
  {
   "cell_type": "markdown",
   "metadata": {},
   "source": [
    "### 5.2 Retrain your previous Bidirectional LSTM model with training and validation data and tune the parameters (learning rate, optimizer, etc) based on validation score. (25 points)\n",
    "\n",
    "1. Use the model structure in section 3 to train a new model with new training and validation datasets.\n",
    "2. Based on validation BLEU score or loss to tune parameters."
   ]
  },
  {
   "cell_type": "code",
   "execution_count": 38,
   "metadata": {},
   "outputs": [
    {
     "name": "stdout",
     "output_type": "stream",
     "text": [
      "Epoch 1/50\n",
      "69/69 [==============================] - 16s 167ms/step - loss: 0.8657 - val_loss: 0.6922\n",
      "Epoch 2/50\n",
      "69/69 [==============================] - 10s 150ms/step - loss: 0.7242 - val_loss: 0.6258\n",
      "Epoch 3/50\n",
      "69/69 [==============================] - 11s 153ms/step - loss: 0.6864 - val_loss: 0.5736\n",
      "Epoch 4/50\n",
      "69/69 [==============================] - 11s 155ms/step - loss: 0.6618 - val_loss: 0.5424\n",
      "Epoch 5/50\n",
      "69/69 [==============================] - 11s 157ms/step - loss: 0.6446 - val_loss: 0.5304\n",
      "Epoch 6/50\n",
      "69/69 [==============================] - 11s 156ms/step - loss: 0.6311 - val_loss: 0.5060\n",
      "Epoch 7/50\n",
      "69/69 [==============================] - 11s 157ms/step - loss: 0.6195 - val_loss: 0.4893\n",
      "Epoch 8/50\n",
      "69/69 [==============================] - 11s 157ms/step - loss: 0.6094 - val_loss: 0.4830\n",
      "Epoch 9/50\n",
      "69/69 [==============================] - 11s 158ms/step - loss: 0.6007 - val_loss: 0.4699\n",
      "Epoch 10/50\n",
      "69/69 [==============================] - 11s 157ms/step - loss: 0.5924 - val_loss: 0.4557\n",
      "Epoch 11/50\n",
      "69/69 [==============================] - 11s 156ms/step - loss: 0.5852 - val_loss: 0.4503\n",
      "Epoch 12/50\n",
      "69/69 [==============================] - 11s 158ms/step - loss: 0.5785 - val_loss: 0.4386\n",
      "Epoch 13/50\n",
      "69/69 [==============================] - 11s 158ms/step - loss: 0.5721 - val_loss: 0.4307\n",
      "Epoch 14/50\n",
      "69/69 [==============================] - 11s 158ms/step - loss: 0.5663 - val_loss: 0.4252\n",
      "Epoch 15/50\n",
      "69/69 [==============================] - 11s 159ms/step - loss: 0.5613 - val_loss: 0.4211\n",
      "Epoch 16/50\n",
      "69/69 [==============================] - 11s 158ms/step - loss: 0.5567 - val_loss: 0.4140\n",
      "Epoch 17/50\n",
      "69/69 [==============================] - 11s 156ms/step - loss: 0.5513 - val_loss: 0.4080\n",
      "Epoch 18/50\n",
      "69/69 [==============================] - 11s 158ms/step - loss: 0.5478 - val_loss: 0.4076\n",
      "Epoch 19/50\n",
      "69/69 [==============================] - 11s 156ms/step - loss: 0.5431 - val_loss: 0.3951\n",
      "Epoch 20/50\n",
      "69/69 [==============================] - 11s 159ms/step - loss: 0.5395 - val_loss: 0.3913\n",
      "Epoch 21/50\n",
      "69/69 [==============================] - 11s 162ms/step - loss: 0.5355 - val_loss: 0.3900\n",
      "Epoch 22/50\n",
      "69/69 [==============================] - 11s 160ms/step - loss: 0.5327 - val_loss: 0.3858\n",
      "Epoch 23/50\n",
      "69/69 [==============================] - 11s 160ms/step - loss: 0.5285 - val_loss: 0.3862\n",
      "Epoch 24/50\n",
      "69/69 [==============================] - 11s 161ms/step - loss: 0.5259 - val_loss: 0.3801\n",
      "Epoch 25/50\n",
      "69/69 [==============================] - 11s 158ms/step - loss: 0.5230 - val_loss: 0.3771\n",
      "Epoch 26/50\n",
      "69/69 [==============================] - 11s 160ms/step - loss: 0.5200 - val_loss: 0.3718\n",
      "Epoch 27/50\n",
      "69/69 [==============================] - 11s 160ms/step - loss: 0.5170 - val_loss: 0.3663\n",
      "Epoch 28/50\n",
      "69/69 [==============================] - 11s 159ms/step - loss: 0.5146 - val_loss: 0.3680\n",
      "Epoch 29/50\n",
      "69/69 [==============================] - 11s 159ms/step - loss: 0.5123 - val_loss: 0.3636\n",
      "Epoch 30/50\n",
      "69/69 [==============================] - 11s 160ms/step - loss: 0.5099 - val_loss: 0.3599\n",
      "Epoch 31/50\n",
      "69/69 [==============================] - 11s 160ms/step - loss: 0.5073 - val_loss: 0.3589\n",
      "Epoch 32/50\n",
      "69/69 [==============================] - 11s 158ms/step - loss: 0.5053 - val_loss: 0.3555\n",
      "Epoch 33/50\n",
      "69/69 [==============================] - 11s 156ms/step - loss: 0.5029 - val_loss: 0.3531\n",
      "Epoch 34/50\n",
      "69/69 [==============================] - 11s 157ms/step - loss: 0.5008 - val_loss: 0.3491\n",
      "Epoch 35/50\n",
      "69/69 [==============================] - 11s 156ms/step - loss: 0.4990 - val_loss: 0.3516\n",
      "Epoch 36/50\n",
      "69/69 [==============================] - 11s 159ms/step - loss: 0.4962 - val_loss: 0.3475\n",
      "Epoch 37/50\n",
      "69/69 [==============================] - 11s 157ms/step - loss: 0.4947 - val_loss: 0.3468\n",
      "Epoch 38/50\n",
      "69/69 [==============================] - 11s 156ms/step - loss: 0.4930 - val_loss: 0.3425\n",
      "Epoch 39/50\n",
      "69/69 [==============================] - 11s 156ms/step - loss: 0.4916 - val_loss: 0.3432\n",
      "Epoch 40/50\n",
      "69/69 [==============================] - 11s 157ms/step - loss: 0.4891 - val_loss: 0.3392\n",
      "Epoch 41/50\n",
      "69/69 [==============================] - 11s 157ms/step - loss: 0.4879 - val_loss: 0.3358\n",
      "Epoch 42/50\n",
      "69/69 [==============================] - 11s 157ms/step - loss: 0.4864 - val_loss: 0.3330\n",
      "Epoch 43/50\n",
      "69/69 [==============================] - 11s 157ms/step - loss: 0.4842 - val_loss: 0.3350\n",
      "Epoch 44/50\n",
      "69/69 [==============================] - 11s 159ms/step - loss: 0.4822 - val_loss: 0.3338\n",
      "Epoch 45/50\n",
      "69/69 [==============================] - 11s 156ms/step - loss: 0.4808 - val_loss: 0.3320\n",
      "Epoch 46/50\n",
      "69/69 [==============================] - 11s 158ms/step - loss: 0.4793 - val_loss: 0.3294\n",
      "Epoch 47/50\n",
      "69/69 [==============================] - 11s 156ms/step - loss: 0.4780 - val_loss: 0.3288\n",
      "Epoch 48/50\n",
      "69/69 [==============================] - 11s 158ms/step - loss: 0.4768 - val_loss: 0.3283\n",
      "Epoch 49/50\n",
      "69/69 [==============================] - 11s 156ms/step - loss: 0.4756 - val_loss: 0.3243\n",
      "Epoch 50/50\n",
      "69/69 [==============================] - 11s 155ms/step - loss: 0.4743 - val_loss: 0.3212\n"
     ]
    }
   ],
   "source": [
    "model.compile(optimizer='rmsprop', loss='categorical_crossentropy')\n",
    "\n",
    "model.fit([encoder_input_data_train, decoder_input_data_train],  # training data\n",
    "          decoder_target_data_train,                       # labels (left shift of the target sequences)\n",
    "          batch_size=1028, epochs=50, validation_data=([encoder_input_data_valid, decoder_input_data_valid], decoder_target_data_valid))\n",
    "\n",
    "model.save('seq2seq_tune.h5')"
   ]
  },
  {
   "cell_type": "code",
   "execution_count": 39,
   "metadata": {},
   "outputs": [
    {
     "name": "stdout",
     "output_type": "stream",
     "text": [
      "-\n",
      "English:        i dont like you anymore\n",
      "Spanish (true):  ya no me gustas\n",
      "Spanish (pred):  \ta de ymsno nm cadpo\n",
      "-\n",
      "English:        stand up\n",
      "Spanish (true):  de pie\n",
      "Spanish (pred):  uejo ue rrodo\n",
      "-\n",
      "English:        the car didnt move\n",
      "Spanish (true):  el auto no se movio\n",
      "Spanish (pred):  er \tt\ta \ta co\ta o do\n",
      "-\n",
      "English:        we got to the station at six\n",
      "Spanish (true):  llegamos a la estacion a las seis\n",
      "Spanish (pred):  \tas godas e\t er ca\teyta ue cacge\n",
      "-\n",
      "English:        i know this is stupid\n",
      "Spanish (true):  se que esto es estupido\n",
      "Spanish (pred):  se vme es esno fe\n",
      "-\n",
      "English:        i read your report\n",
      "Spanish (true):  he leido su informe\n",
      "Spanish (pred):  re o\tco\tno nm cacge\n",
      "-\n",
      "English:        could you give me a lift home\n",
      "Spanish (true):  me acercas a casa\n",
      "Spanish (pred):  pau\n",
      "-\n",
      "English:        are you saying my life is in danger\n",
      "Spanish (true):  estas diciendo que estoy en peligro\n",
      "Spanish (pred):  esnos uesoua ue esno de\to\tua e\t m\t cacge\n",
      "-\n",
      "English:        tom lost his wallet\n",
      "Spanish (true):  tom perdio su billetera\n",
      "Spanish (pred):  nad se ueja er ca\tn\n",
      "-\n",
      "English:        the bus is full\n",
      "Spanish (true):  el autobus esta lleno\n",
      "Spanish (pred):  er codba esno ca\tno\tne\n",
      "-\n",
      "English:        we failed\n",
      "Spanish (true):  fallamos\n",
      "Spanish (pred):  esnobodas ocmpouas\n",
      "-\n",
      "English:        ive lost my wallet\n",
      "Spanish (true):  he perdido mi billetera\n",
      "Spanish (pred):  de ge ca\tnoua dt co\n",
      "-\n",
      "English:        no one goes there anymore\n",
      "Spanish (true):  ya nadie va alla\n",
      "Spanish (pred):  \toute htha ovmt oga\n",
      "-\n",
      "English:        i know its difficult\n",
      "Spanish (true):  se que es dificil\n",
      "Spanish (pred):  se vme es m\t ca\tne\n",
      "-\n",
      "English:        i dont like oranges\n",
      "Spanish (true):  no me gustan las naranjas\n",
      "Spanish (pred):  \ta de ymsno\t ras \tt\tas\n",
      "-\n",
      "English:        i asked a favor of him\n",
      "Spanish (true):  le pedi un favor\n",
      "Spanish (pred):  re peut m\t paca ue dt\n",
      "-\n",
      "English:        tom wants to tell mary the truth\n",
      "Spanish (true):  tom quiere decirle la verdad a maria\n",
      "Spanish (pred):  nad vmte\n",
      "-\n",
      "English:        you should take off your coat\n",
      "Spanish (true):  deberian quitarse su abrigo\n",
      "Spanish (pred):  uebe\n",
      "-\n",
      "English:        i know when im being deceived\n",
      "Spanish (true):  yo se cuando me estan enganando\n",
      "Spanish (pred):  se ra vme esno esnouto\tua ora\n",
      "-\n",
      "English:        they seem happy dont they\n",
      "Spanish (true):  parecen felices verdad\n",
      "Spanish (pred):  erras se ocme\n",
      "-\n",
      "English:        we spent the day at the beach\n",
      "Spanish (true):  pasamos el dia en la playa\n",
      "Spanish (pred):  \tas ocadpodas er er pro\ta\n",
      "-\n",
      "English:        i have no alternative\n",
      "Spanish (true):  no tengo alternativa\n",
      "Spanish (pred):  \ta ne\tya \tt\tym\t p\n",
      "-\n",
      "English:        lets start from the beginning\n",
      "Spanish (true):  empecemos por el principio\n",
      "Spanish (pred):  cadas o ro escmero e\t ro cacge\n",
      "-\n",
      "English:        tom asked mary if shed return soon\n",
      "Spanish (true):  tom le pregunto a mary si volveria pronto\n",
      "Spanish (pred):  nad re ptuta o do\n",
      "-\n",
      "English:        lets pretend that were soldiers\n",
      "Spanish (true):  finjamos que somos soldados\n",
      "Spanish (pred):  jmymedas o se\tne\n",
      "-\n",
      "English:        i dont need your permission\n",
      "Spanish (true):  no necesito tu permiso\n",
      "Spanish (pred):  \ta \tecestna nm ca\tseja\n",
      "-\n",
      "English:        you were never my type\n",
      "Spanish (true):  nunca fuiste mi tipo\n",
      "Spanish (pred):  \ta e\n",
      "-\n",
      "English:        im speechless\n",
      "Spanish (true):  estoy sin palabras\n",
      "Spanish (pred):  saq ca\tno\tne\n",
      "-\n",
      "English:        remember to turn off the lights\n",
      "Spanish (true):  recuerda apagar las luces\n",
      "Spanish (pred):  ueso ue ra e\tne\tno\n",
      "-\n",
      "English:        i havent done that\n",
      "Spanish (true):  yo no he hecho eso\n",
      "Spanish (pred):  \ta ge gecga esa\n"
     ]
    }
   ],
   "source": [
    "input_test_texts = input_texts[test_rand_indices]\n",
    "target_texts = numpy.array(target_texts)\n",
    "target_test_texts = target_texts[test_rand_indices]\n",
    "\n",
    "predicted_sentences = []\n",
    "\n",
    "# for seq_index in range(2100, 2120):\n",
    "for seq_index in range(2120, 2150):\n",
    "    # Take one sequence (part of the training set)\n",
    "    # for trying out decoding.\n",
    "    input_seq = encoder_input_data_test[seq_index: seq_index + 1]\n",
    "    decoded_sentence = decode_sequence(input_seq)\n",
    "    predicted_sentences.append(decoded_sentence[0:-1])\n",
    "    print('-')\n",
    "    print('English:       ', input_test_texts[seq_index])\n",
    "    print('Spanish (true): ', target_test_texts[seq_index][1:-1])\n",
    "    print('Spanish (pred): ', decoded_sentence[0:-1])\n"
   ]
  },
  {
   "cell_type": "markdown",
   "metadata": {},
   "source": [
    "### 5.3 Evaluate the BLEU score using the test set. (15 points)\n",
    "\n",
    "1. Use trained model above to calculate the BLEU score with testing dataset."
   ]
  },
  {
   "cell_type": "code",
   "execution_count": 40,
   "metadata": {},
   "outputs": [],
   "source": [
    "target_list = [sentence.split() for sentence in target_test_texts[2120:2150]]\n",
    "predicted_list = [sentence.split() for sentence in predicted_sentences]"
   ]
  },
  {
   "cell_type": "code",
   "execution_count": 41,
   "metadata": {},
   "outputs": [
    {
     "name": "stdout",
     "output_type": "stream",
     "text": [
      "1.0935728289669988e-231\n"
     ]
    },
    {
     "name": "stderr",
     "output_type": "stream",
     "text": [
      "C:\\Users\\abhis\\.conda\\envs\\GPU\\lib\\site-packages\\nltk\\translate\\bleu_score.py:552: UserWarning: \n",
      "The hypothesis contains 0 counts of 2-gram overlaps.\n",
      "Therefore the BLEU score evaluates to 0, independently of\n",
      "how many N-gram overlaps of lower order it contains.\n",
      "Consider using lower n-gram order or use SmoothingFunction()\n",
      "  warnings.warn(_msg)\n",
      "C:\\Users\\abhis\\.conda\\envs\\GPU\\lib\\site-packages\\nltk\\translate\\bleu_score.py:552: UserWarning: \n",
      "The hypothesis contains 0 counts of 3-gram overlaps.\n",
      "Therefore the BLEU score evaluates to 0, independently of\n",
      "how many N-gram overlaps of lower order it contains.\n",
      "Consider using lower n-gram order or use SmoothingFunction()\n",
      "  warnings.warn(_msg)\n",
      "C:\\Users\\abhis\\.conda\\envs\\GPU\\lib\\site-packages\\nltk\\translate\\bleu_score.py:552: UserWarning: \n",
      "The hypothesis contains 0 counts of 4-gram overlaps.\n",
      "Therefore the BLEU score evaluates to 0, independently of\n",
      "how many N-gram overlaps of lower order it contains.\n",
      "Consider using lower n-gram order or use SmoothingFunction()\n",
      "  warnings.warn(_msg)\n"
     ]
    }
   ],
   "source": [
    "# Compute the BLEU score\n",
    "from nltk.translate.bleu_score import corpus_bleu\n",
    "\n",
    "references = target_list\n",
    "candidates = predicted_list\n",
    "score = corpus_bleu(references, candidates)\n",
    "print(score)"
   ]
  }
 ],
 "metadata": {
  "kernelspec": {
   "display_name": "Python 3 (ipykernel)",
   "language": "python",
   "name": "python3"
  },
  "language_info": {
   "codemirror_mode": {
    "name": "ipython",
    "version": 3
   },
   "file_extension": ".py",
   "mimetype": "text/x-python",
   "name": "python",
   "nbconvert_exporter": "python",
   "pygments_lexer": "ipython3",
   "version": "3.9.7"
  }
 },
 "nbformat": 4,
 "nbformat_minor": 2
}
